{
 "cells": [
  {
   "cell_type": "markdown",
   "metadata": {},
   "source": [
    "# Manual de Introdução a Ciência de Dados em Python\n",
    "\n",
    "Este manual visa dar base introdutoria a pesquisa no campo da ciência de dados em python.\n",
    "\n",
    "Autor: Fernando H Canteruccio  \n",
    "Data: 01/06/2017"
   ]
  },
  {
   "cell_type": "markdown",
   "metadata": {},
   "source": [
    "# Instalação das Dependencias\n",
    "\n",
    "Inicialmente, é necessário realizar a instalação das dependencias.\n",
    "\n",
    "Neste projeto serão utilizados como linguagem de programação o Python 3.6, e como IDE o Jupyter Notebook.\n",
    "Por se tratar de um projeto em ciência de dados, serão utilizados os seguintes modulos de python:\n",
    "\n",
    "- Numpy, como biblioteca matemática.\n",
    "- Pandas, como ferramenta para análise de dados.\n",
    "- Sklearn, como ferramenta de alto nível para modelagem.\n",
    "- Keras, como ferramenta de alto nível especifica para o desenvolvimento de redes neurais artificiais.\n",
    "- Matplotlib, como ferramenta de visualização e graficos.\n",
    "- Seaborn, como ferramenta de visualização e graficos.\n",
    "\n",
    "Os modulos serão instalados em um ambiente virtual de python separado da instalação do sistema, por sanidade.\n",
    "Todos os passos descritos a seguir assumem que o sistema operacional utilizado é o Ubuntu 16.04 LTS.\n",
    "Os passos são análogos para outros sistemas, e uma ampla gama de ótimos tutoriais de instalação esta disponivel na internet. Alternativamente, existe um pacote chamado [Anaconda](https://www.continuum.io/downloads) que oferece a maioria das ferramentas para ciência de dados em python e é de instalação facilitada. \n",
    "\n",
    "## Instalando o Python 3.6\n",
    "\n",
    "Primeiro, intalando o python 3. Abra o terminal e digite os seguintes comandos:\n",
    "\n",
    "$$ sudo add-apt-repository ppa:deadsnakes/ppa  \n",
    "$ sudo apt-get update  \n",
    "$ sudo apt-get install python3.6 python3.6-dev    \n",
    "$ sudo pip3 install --upgrade pip  \n",
    "\n",
    "Feito isso, instale o virtualenv:\n",
    "\n",
    "$ pip install virtualenv\n",
    "\n",
    "Crie o diretorio onde deseja instalar o ambiente virtual:\n",
    "\n",
    "$ mkdir MYENV\n",
    "\n",
    "Crie o ambiente virtual no diretorio desejado:\n",
    "\n",
    "$ sudo virtualenv -p python3.6 MYENV\n",
    "\n",
    "Ative o ambiente virtual:\n",
    "\n",
    "$ source MYENV/bin/activate\n",
    "\n",
    "Pronto. Digite no terminal o seguinte comando para verificar se a instalação foi um sucesso:\n",
    "\n",
    "$ python -V\n",
    "\n",
    "Este comando deve retornar a versão do python instalada no ambiente virtual, e deve ser igual a 3.X\n",
    "\n",
    "Para fechar o ambiente virtual, digite no terminal:\n",
    "\n",
    "$ deactivate\n",
    "\n",
    "Para facilitar o uso do virtualenv, pode-se instalar o virtualenvwrapper com o seguinte comando:\n",
    "\n",
    "$ sudo pip install virtualenvwrapper\n",
    "\n",
    "Agora, para entrar ambiente de trabalho usa-se o comando:\n",
    "\n",
    "$ workon MYENV\n",
    "\n",
    "A [documentação](http://virtualenvwrapper.readthedocs.io/en/latest/index.html) esclarece maiores dúvidas.\n",
    "\n",
    "\n",
    "## Instalalando o Jupyter\n",
    "\n",
    "Com o pip, o gerenciador de pacotes do python, ja instalado, é facil prosseguir com as instalações.\n",
    "Para instalar o jupyter, digite no terminal enquanto com o ambiente virtual ativado:\n",
    "\n",
    "(MYENV) $ pip3 install jupyter\n",
    "\n",
    "Quando finalizada a instalação, o jupyter pode ser acessado de dentro do ambiente virtual com o comando:\n",
    "\n",
    "(MYENV) $ jupyter notebook\n",
    "\n",
    "Isto abrirá uma janela de brower com o jupyter explorer aberto. No canto superior direito clique em *new* -> python 3. Este comando abrirá um notebook vazio, este é seu ambiente de trabalho. A [documentação](http://jupyter-notebook.readthedocs.io/en/latest/) deste projeto também é muito boa e esclarece maiores duvidas.\n",
    "\n",
    "## Instalando os modulos científicos\n",
    "\n",
    "Com o ambiente virtual ativado, digite no terminal:\n",
    "\n",
    "(MYENV) $ pip3 install --user matplotlib seaborn numpy pandas sklearn tensorflow keras statsmodels pandas_datareader\n",
    "\n",
    "Feito isso, você pode testar suas dependencias abrindo digitando no terminal:\n",
    "\n",
    "(MYENV) $ python3\n",
    "\n",
    "Isto abrira uma sessão interativa do python. Digite então:\n",
    "\n",
    "\\>>> import [matplotlib](https://matplotlib.org/)  \n",
    "\\>>> import [seaborn](https://seaborn.pydata.org/)  \n",
    "\\>>> import [numpy](http://www.numpy.org/)  \n",
    "\\>>> import [pandas](http://pandas.pydata.org/)  \n",
    "\\>>> import [tensorflow](https://www.tensorflow.org/)  \n",
    "\\>>> import [keras](https://keras.io/)  \n",
    "\\>>> import [sklearn](http://scikit-learn.org/stable/)  \n",
    "\\>>> import [statsmodels](https://www.statsmodels.org/stable/index.html)  \n",
    "\\>>> import [pandas_datareader](http://pandas-datareader.readthedocs.io/en/latest/remote_data.html)  \n",
    "\\>>> exit()  \n",
    "\n",
    "Caso todos os imports sejam executados sem retornar nenhum erro, sua instalação foi um sucesso.  \n",
    "Ocorrendo algum erro, a documentação de cada um dos componentes contém manual completo de intalação em inglês."
   ]
  },
  {
   "cell_type": "markdown",
   "metadata": {},
   "source": [
    "# Utilizando o Jupyter Notebook\n",
    "\n",
    "O Jupyter notebook é um ótimo ambiente de trabalho para desenvolvimento de projetos em ciência de dados pelo fato de ser um ambiente python (também aceita outras linguagens como julia, R, Ruby, etc...) interativo. O processo de programar dada rotina se torna muito mais fácil quando você pode conferir parte por parte e saber que cada componente do programa roda sem falhas. Além disso, o poder de exposição do jupyter, gerando visualizações imediatas após rodar a celula, o torna uma ótima ferramente exploratória e demonstrativa. As celulas *Markdown* melhoram ainda mais seu poder expositivo sendo possível escrever em Latex, gerando uma ferramenta que produz apresentações prontas para exposição ao mesmo tempo que realiza o trabalho de programação.\n",
    "\n",
    "Comandos basicos como \"rodar\" a celula, parar, adicionar mais celulas e resetar o ambiente estão disponíveis na barra de ferramentas. Além disso, o jupyter conta com uma poderosa gama de [*hotkeys*](https://www.dataquest.io/blog/jupyter-notebook-tips-tricks-shortcuts/) para acelerar o trabalho. As principais *hotkeys* que você vai utilizar são o *Ctrl + Enter*, o *Shift + Enter* e o *Alt + Enter*, que respectivamente roda a celula selecionada, roda a celula selecionada e seleciona a logo abaixo (abre uma nova caso seja a última), e roda a celula e insere uma nova logo abaixo.\n",
    "\n",
    "Celulas não executadas tem o simbolo [ ] exibido a sua esquerda. Celulas em execução são sinalizadas por [\\*], e celulas já executadas são marcadas por seu número de execução [1]."
   ]
  },
  {
   "cell_type": "code",
   "execution_count": 1,
   "metadata": {},
   "outputs": [],
   "source": [
    "# Celula não executada"
   ]
  },
  {
   "cell_type": "code",
   "execution_count": 2,
   "metadata": {},
   "outputs": [
    {
     "name": "stdout",
     "output_type": "stream",
     "text": [
      "Python 3.6.4\r\n"
     ]
    }
   ],
   "source": [
    "# Celula executada\n",
    "!python --version"
   ]
  },
  {
   "cell_type": "markdown",
   "metadata": {},
   "source": [
    "O [tutorial básico](http://jupyter-notebook.readthedocs.io/en/latest/examples/Notebook/Notebook%20Basics.html) e a documentação do jupyter dão uma boa noção do que se pode fazer com ele, e ao longo de sua jornada você se tornará íntimo desta ferramenta."
   ]
  },
  {
   "cell_type": "markdown",
   "metadata": {
    "collapsed": true
   },
   "source": [
    "# Introdução ao Python\n",
    "\n",
    "Python é uma linguagem de programação muito popular na comunidade científica. Sendo um projeto *open-source* e apoiada por uma imensa comunidade, a linguagem esta em constante desenvolvimento. Uma ampla gama de modulos de terceiros esta disponível para python, sendo este um dos grandes fortes da linguagem. Você não precisa fazer tudo de novo do zero quando ja fizeram grande parte do trabalho para você e este trabalho foi realizado pelos melhores ciêntistas e programadores do mundo. A linguagem é legivel, com manejo automatico de memória, e é interpretada, o que quer dizer que você não precisará compilar seus programas antes de testar.\n",
    "\n",
    "Para utilizar o python no jupyter notebook, digite o codigo na celula *Code* e entao execute-a (CTRL+ENTER).\n",
    "\n",
    "Vamos a um exemplo básico:"
   ]
  },
  {
   "cell_type": "code",
   "execution_count": 3,
   "metadata": {},
   "outputs": [
    {
     "name": "stdout",
     "output_type": "stream",
     "text": [
      "Hello World!\n"
     ]
    }
   ],
   "source": [
    "print(\"Hello World!\")"
   ]
  },
  {
   "cell_type": "markdown",
   "metadata": {},
   "source": [
    "O código acima é um comando simples de \"*print*\", e tem como saída o argumento passado para esta função impresso no *stdout*.\n",
    "\n",
    "Para definir variáveis, usa-se o sinal '=':"
   ]
  },
  {
   "cell_type": "code",
   "execution_count": 4,
   "metadata": {},
   "outputs": [],
   "source": [
    "var = 42"
   ]
  },
  {
   "cell_type": "markdown",
   "metadata": {},
   "source": [
    "No jupyter, caso a ultima linha da celula for apenas o nome de um dado objeto, seu valor será mostrado abaixo logo após a execução da celula."
   ]
  },
  {
   "cell_type": "code",
   "execution_count": 5,
   "metadata": {},
   "outputs": [
    {
     "data": {
      "text/plain": [
       "42"
      ]
     },
     "execution_count": 5,
     "metadata": {},
     "output_type": "execute_result"
    }
   ],
   "source": [
    "var"
   ]
  },
  {
   "cell_type": "markdown",
   "metadata": {},
   "source": [
    "*Loops* basicos e estruturas de controle são intuitivos em python.\n",
    "\n",
    "*Loop while*:"
   ]
  },
  {
   "cell_type": "code",
   "execution_count": 6,
   "metadata": {},
   "outputs": [
    {
     "name": "stdout",
     "output_type": "stream",
     "text": [
      "0\n",
      "1\n",
      "2\n",
      "3\n"
     ]
    }
   ],
   "source": [
    "i = 0\n",
    "while i <= 3:\n",
    "    print(i)\n",
    "    i += 1"
   ]
  },
  {
   "cell_type": "markdown",
   "metadata": {},
   "source": [
    "*Loop for*:"
   ]
  },
  {
   "cell_type": "code",
   "execution_count": 7,
   "metadata": {},
   "outputs": [
    {
     "name": "stdout",
     "output_type": "stream",
     "text": [
      "0\n",
      "1\n",
      "2\n"
     ]
    }
   ],
   "source": [
    "for i in range(3):\n",
    "    print(i)"
   ]
  },
  {
   "cell_type": "markdown",
   "metadata": {},
   "source": [
    "Vale ressaltar que a maioria dos intervalos definidos em python são abertos a direita. Pode-se notar esta propriedade no *loop for* acima. "
   ]
  },
  {
   "cell_type": "markdown",
   "metadata": {},
   "source": [
    "*If, elif, else:*"
   ]
  },
  {
   "cell_type": "code",
   "execution_count": 8,
   "metadata": {},
   "outputs": [
    {
     "name": "stdout",
     "output_type": "stream",
     "text": [
      "executou if, i = 0\n",
      "executou elif, i = 1\n",
      "executou else, i = 2\n",
      "executou else, i = 3\n"
     ]
    }
   ],
   "source": [
    "for i in range(4):\n",
    "    if i == 0:\n",
    "        print(\"executou if, i = %d\" % i)\n",
    "    elif i == 1:\n",
    "        print(\"executou elif, i = %d\" % i)\n",
    "    else:\n",
    "        print(\"executou else, i = %d\" % i)"
   ]
  },
  {
   "cell_type": "markdown",
   "metadata": {},
   "source": [
    "Estrutura *try*, *except* para captura de erros:"
   ]
  },
  {
   "cell_type": "code",
   "execution_count": 9,
   "metadata": {},
   "outputs": [
    {
     "name": "stdout",
     "output_type": "stream",
     "text": [
      "1\n",
      "2\n",
      "list index out of range\n"
     ]
    }
   ],
   "source": [
    "ex = [1,2]\n",
    "for i in range(3):\n",
    "    try:\n",
    "        print(ex[i])\n",
    "    except Exception as e:\n",
    "        print(e)"
   ]
  },
  {
   "cell_type": "markdown",
   "metadata": {},
   "source": [
    "As estruturas de dados mais comuns em python são listas, dicionários (os dois mutáveis) e tuples (imutáveis)."
   ]
  },
  {
   "cell_type": "code",
   "execution_count": 10,
   "metadata": {},
   "outputs": [],
   "source": [
    "obj_1 = 0\n",
    "obj_2 = 1\n",
    "obj_3 = 2\n",
    "\n",
    "list_1 = [obj_1, obj_2, obj_3] # lista\n",
    "\n",
    "dict_1 = {'key_1': obj_1, 'key_2': obj_2, 'key_3': obj_3} # dicionario\n",
    "\n",
    "tuple_1 = (obj_1, obj_2, obj_3) # tuple"
   ]
  },
  {
   "cell_type": "markdown",
   "metadata": {},
   "source": [
    "Listas são estruturas de ordem definida, ou seja, seus elementos conservam a ordem em que foram integrados, e estas tem o seguinte formato:"
   ]
  },
  {
   "cell_type": "code",
   "execution_count": 11,
   "metadata": {},
   "outputs": [
    {
     "data": {
      "text/plain": [
       "[0, 1, 2]"
      ]
     },
     "execution_count": 11,
     "metadata": {},
     "output_type": "execute_result"
    }
   ],
   "source": [
    "list_1"
   ]
  },
  {
   "cell_type": "markdown",
   "metadata": {},
   "source": [
    "Elementos da lista podem ser selecionados individualmente ou em \"fatias\", como por exemplo:"
   ]
  },
  {
   "cell_type": "code",
   "execution_count": 12,
   "metadata": {},
   "outputs": [
    {
     "data": {
      "text/plain": [
       "(0, 1)"
      ]
     },
     "execution_count": 12,
     "metadata": {},
     "output_type": "execute_result"
    }
   ],
   "source": [
    "list_1[0], list_1[1] # index"
   ]
  },
  {
   "cell_type": "code",
   "execution_count": 13,
   "metadata": {},
   "outputs": [
    {
     "data": {
      "text/plain": [
       "[1, 2]"
      ]
     },
     "execution_count": 13,
     "metadata": {},
     "output_type": "execute_result"
    }
   ],
   "source": [
    "list_1[1:3] # Slice"
   ]
  },
  {
   "cell_type": "markdown",
   "metadata": {},
   "source": [
    "Dicionários são estruturas sem ordem definida, e se apresentam como baixo:"
   ]
  },
  {
   "cell_type": "code",
   "execution_count": 14,
   "metadata": {},
   "outputs": [
    {
     "data": {
      "text/plain": [
       "{'key_1': 0, 'key_2': 1, 'key_3': 2}"
      ]
     },
     "execution_count": 14,
     "metadata": {},
     "output_type": "execute_result"
    }
   ],
   "source": [
    "dict_1"
   ]
  },
  {
   "cell_type": "markdown",
   "metadata": {},
   "source": [
    "Elementos de dicionários são selecionados chamando por sua \"chave\":"
   ]
  },
  {
   "cell_type": "code",
   "execution_count": 15,
   "metadata": {},
   "outputs": [
    {
     "data": {
      "text/plain": [
       "0"
      ]
     },
     "execution_count": 15,
     "metadata": {},
     "output_type": "execute_result"
    }
   ],
   "source": [
    "dict_1['key_1']"
   ]
  },
  {
   "cell_type": "markdown",
   "metadata": {},
   "source": [
    "Pode-se ainda realizar operações em cada par chave-elemento individualmente com o *loop for*:"
   ]
  },
  {
   "cell_type": "code",
   "execution_count": 16,
   "metadata": {},
   "outputs": [
    {
     "name": "stdout",
     "output_type": "stream",
     "text": [
      "key_1 0\n",
      "key_2 1\n",
      "key_3 2\n"
     ]
    }
   ],
   "source": [
    "for key, item in dict_1.items():\n",
    "    print(key, item)"
   ]
  },
  {
   "cell_type": "markdown",
   "metadata": {},
   "source": [
    "*Tuples* são elementos com ordem definida e se apresentam como abaixo:"
   ]
  },
  {
   "cell_type": "code",
   "execution_count": 17,
   "metadata": {},
   "outputs": [
    {
     "data": {
      "text/plain": [
       "(0, 1, 2)"
      ]
     },
     "execution_count": 17,
     "metadata": {},
     "output_type": "execute_result"
    }
   ],
   "source": [
    "tuple_1"
   ]
  },
  {
   "cell_type": "markdown",
   "metadata": {},
   "source": [
    "Listas e dicionários são mutáveis, e pode-se adicionar ou retirar objetos dinamicamente com os comandos apropriados, já para modificar uma tuple, a mesma deve ser destruída e uma nova deve ser colocada no lugar.\n",
    "A [documentação](https://docs.python.org/3.5/) do python contém o guia completo sobre estruturas de dados e outras particularidades."
   ]
  },
  {
   "cell_type": "code",
   "execution_count": 18,
   "metadata": {},
   "outputs": [
    {
     "data": {
      "text/plain": [
       "[0, 1, 2, 3]"
      ]
     },
     "execution_count": 18,
     "metadata": {},
     "output_type": "execute_result"
    }
   ],
   "source": [
    "list_1.append(3)\n",
    "list_1"
   ]
  },
  {
   "cell_type": "code",
   "execution_count": 19,
   "metadata": {},
   "outputs": [
    {
     "data": {
      "text/plain": [
       "{'key_1': 0, 'key_2': 1, 'key_3': 3}"
      ]
     },
     "execution_count": 19,
     "metadata": {},
     "output_type": "execute_result"
    }
   ],
   "source": [
    "dict_1['key_3'] = 3\n",
    "dict_1"
   ]
  },
  {
   "cell_type": "code",
   "execution_count": 20,
   "metadata": {},
   "outputs": [
    {
     "data": {
      "text/plain": [
       "(0, 1, 2)"
      ]
     },
     "execution_count": 20,
     "metadata": {},
     "output_type": "execute_result"
    }
   ],
   "source": [
    "tuple_1"
   ]
  },
  {
   "cell_type": "code",
   "execution_count": 21,
   "metadata": {},
   "outputs": [
    {
     "data": {
      "text/plain": [
       "(0, 1, 2, 3)"
      ]
     },
     "execution_count": 21,
     "metadata": {},
     "output_type": "execute_result"
    }
   ],
   "source": [
    "tuple_1 = (0,1,2,3)\n",
    "tuple_1"
   ]
  },
  {
   "cell_type": "markdown",
   "metadata": {},
   "source": [
    "Além disso, temos *sets*, imutáveis e de elementos únicos:"
   ]
  },
  {
   "cell_type": "code",
   "execution_count": 22,
   "metadata": {},
   "outputs": [
    {
     "data": {
      "text/plain": [
       "{1, 2, 3, 4}"
      ]
     },
     "execution_count": 22,
     "metadata": {},
     "output_type": "execute_result"
    }
   ],
   "source": [
    "set([1,2,3,4,4,4,4])"
   ]
  },
  {
   "cell_type": "markdown",
   "metadata": {},
   "source": [
    "Operações matemáticas simples podem ser executadas diretamente em python, como abaixo:"
   ]
  },
  {
   "cell_type": "code",
   "execution_count": 23,
   "metadata": {},
   "outputs": [
    {
     "data": {
      "text/plain": [
       "3"
      ]
     },
     "execution_count": 23,
     "metadata": {},
     "output_type": "execute_result"
    }
   ],
   "source": [
    "1 + 2"
   ]
  },
  {
   "cell_type": "code",
   "execution_count": 24,
   "metadata": {},
   "outputs": [
    {
     "data": {
      "text/plain": [
       "6"
      ]
     },
     "execution_count": 24,
     "metadata": {},
     "output_type": "execute_result"
    }
   ],
   "source": [
    "2 * 3"
   ]
  },
  {
   "cell_type": "code",
   "execution_count": 25,
   "metadata": {},
   "outputs": [
    {
     "data": {
      "text/plain": [
       "0.6666666666666666"
      ]
     },
     "execution_count": 25,
     "metadata": {},
     "output_type": "execute_result"
    }
   ],
   "source": [
    "2 / 3"
   ]
  },
  {
   "cell_type": "code",
   "execution_count": 26,
   "metadata": {},
   "outputs": [
    {
     "data": {
      "text/plain": [
       "4"
      ]
     },
     "execution_count": 26,
     "metadata": {},
     "output_type": "execute_result"
    }
   ],
   "source": [
    "2**2 # Exponenciação, 2²"
   ]
  },
  {
   "cell_type": "markdown",
   "metadata": {},
   "source": [
    "Para realizar processos mais complexos, recomenda-se a utilização do *Numpy*.\n",
    "\n",
    "Para um tutorial completo mais didático do que a documentação, recomendo o tutorial [A byte of python](https://python.swaroopch.com/basics.html)."
   ]
  },
  {
   "cell_type": "markdown",
   "metadata": {},
   "source": [
    "# Numpy\n",
    "\n",
    "O [Numpy](http://www.numpy.org/) é a biblioteca matemática padrão do python. Suas rotinas são compiladas em C, Fortran e outras linguagens mais rapidas do que Python, fazendo com que a computação de grande volume de dados seja feita de forma rápida e eficiênte. Sua estrutura de dados básica é o array."
   ]
  },
  {
   "cell_type": "code",
   "execution_count": 27,
   "metadata": {},
   "outputs": [
    {
     "data": {
      "text/plain": [
       "array([1, 2, 3, 4])"
      ]
     },
     "execution_count": 27,
     "metadata": {},
     "output_type": "execute_result"
    }
   ],
   "source": [
    "import numpy as np # importa o modulo para uso\n",
    "\n",
    "array_1 = np.array([i for i in range(1,5)]) # cria o array a partir de uma lista\n",
    "array_1"
   ]
  },
  {
   "cell_type": "markdown",
   "metadata": {},
   "source": [
    "Um array pode ser modificado em elementos, mas não em tamanho como uma lista. Selecionar elementos por indice também é possivel."
   ]
  },
  {
   "cell_type": "code",
   "execution_count": 28,
   "metadata": {},
   "outputs": [
    {
     "data": {
      "text/plain": [
       "1"
      ]
     },
     "execution_count": 28,
     "metadata": {},
     "output_type": "execute_result"
    }
   ],
   "source": [
    "array_1[0] # elemento 0 do array"
   ]
  },
  {
   "cell_type": "code",
   "execution_count": 29,
   "metadata": {},
   "outputs": [
    {
     "data": {
      "text/plain": [
       "array([1, 5, 3, 4])"
      ]
     },
     "execution_count": 29,
     "metadata": {},
     "output_type": "execute_result"
    }
   ],
   "source": [
    "array_1[1] = 5 # modifica o elemento 1 do array para '5'\n",
    "array_1"
   ]
  },
  {
   "cell_type": "markdown",
   "metadata": {},
   "source": [
    "O numpy realiza operação com seus metodos proprios, como por exemplo:"
   ]
  },
  {
   "cell_type": "code",
   "execution_count": 30,
   "metadata": {},
   "outputs": [
    {
     "data": {
      "text/plain": [
       "array([ 2, 10,  6,  8])"
      ]
     },
     "execution_count": 30,
     "metadata": {},
     "output_type": "execute_result"
    }
   ],
   "source": [
    "array_2 = np.multiply(2, array_1) # multiplica um array por um escalar\n",
    "array_2"
   ]
  },
  {
   "cell_type": "code",
   "execution_count": 31,
   "metadata": {},
   "outputs": [
    {
     "data": {
      "text/plain": [
       "array([0.5, 0.5, 0.5, 0.5])"
      ]
     },
     "execution_count": 31,
     "metadata": {},
     "output_type": "execute_result"
    }
   ],
   "source": [
    "array_3 = np.divide(array_1, array_2) # divide um array pelo outro\n",
    "array_3"
   ]
  },
  {
   "cell_type": "code",
   "execution_count": 32,
   "metadata": {},
   "outputs": [
    {
     "data": {
      "text/plain": [
       "102"
      ]
     },
     "execution_count": 32,
     "metadata": {},
     "output_type": "execute_result"
    }
   ],
   "source": [
    "array_4 = np.dot(array_1, array_2.T) # transpoe o array 2 e realiza multiplicaçao matricial (dot)\n",
    "array_4"
   ]
  },
  {
   "cell_type": "code",
   "execution_count": 33,
   "metadata": {},
   "outputs": [
    {
     "data": {
      "text/plain": [
       "array([[0.5, 0.5],\n",
       "       [0.5, 0.5]])"
      ]
     },
     "execution_count": 33,
     "metadata": {},
     "output_type": "execute_result"
    }
   ],
   "source": [
    "array_5 = array_3.reshape([-1,2]) # redimensiona o array em uma matriz 2x2\n",
    "array_5"
   ]
  },
  {
   "cell_type": "markdown",
   "metadata": {},
   "source": [
    "O Numpy é um modulo muito poderoso e não pretendo demonstrar todas suas funcionalidades aqui. Para maiores informações, recorrer a [documentação](https://docs.scipy.org/doc/numpy/) ou ao seu melhor amigo [Stack Overflow](https://stackoverflow.com/).\n",
    "\n",
    "# Pandas\n",
    "\n",
    "O [Pandas](http://pandas.pydata.org/) é o modulo preferido para anáise de dados em Python. Este modulo possui estruturas de dados como o DataFrame, que guarda informações e opera sobre elas de modo extremamente eficiente e intuitivo."
   ]
  },
  {
   "cell_type": "code",
   "execution_count": 34,
   "metadata": {},
   "outputs": [
    {
     "data": {
      "text/html": [
       "<div>\n",
       "<style scoped>\n",
       "    .dataframe tbody tr th:only-of-type {\n",
       "        vertical-align: middle;\n",
       "    }\n",
       "\n",
       "    .dataframe tbody tr th {\n",
       "        vertical-align: top;\n",
       "    }\n",
       "\n",
       "    .dataframe thead th {\n",
       "        text-align: right;\n",
       "    }\n",
       "</style>\n",
       "<table border=\"1\" class=\"dataframe\">\n",
       "  <thead>\n",
       "    <tr style=\"text-align: right;\">\n",
       "      <th></th>\n",
       "      <th>column_1</th>\n",
       "      <th>column_2</th>\n",
       "    </tr>\n",
       "  </thead>\n",
       "  <tbody>\n",
       "    <tr>\n",
       "      <th>0</th>\n",
       "      <td>0</td>\n",
       "      <td>9</td>\n",
       "    </tr>\n",
       "    <tr>\n",
       "      <th>1</th>\n",
       "      <td>1</td>\n",
       "      <td>10</td>\n",
       "    </tr>\n",
       "    <tr>\n",
       "      <th>2</th>\n",
       "      <td>2</td>\n",
       "      <td>11</td>\n",
       "    </tr>\n",
       "    <tr>\n",
       "      <th>3</th>\n",
       "      <td>3</td>\n",
       "      <td>12</td>\n",
       "    </tr>\n",
       "    <tr>\n",
       "      <th>4</th>\n",
       "      <td>4</td>\n",
       "      <td>13</td>\n",
       "    </tr>\n",
       "  </tbody>\n",
       "</table>\n",
       "</div>"
      ],
      "text/plain": [
       "   column_1  column_2\n",
       "0         0         9\n",
       "1         1        10\n",
       "2         2        11\n",
       "3         3        12\n",
       "4         4        13"
      ]
     },
     "execution_count": 34,
     "metadata": {},
     "output_type": "execute_result"
    }
   ],
   "source": [
    "import pandas as pd\n",
    "\n",
    "df = pd.DataFrame(np.array([np.arange(9), np.arange(9,18)]).T, columns=['column_1', 'column_2'])\n",
    "df.head()"
   ]
  },
  {
   "cell_type": "markdown",
   "metadata": {},
   "source": [
    "O DataFrame possui uma infinidade de métodos úteis, estes podem ser encontrados na [documentação](http://pandas.pydata.org/pandas-docs/stable/generated/pandas.DataFrame.html). Com ele é fácil, por exemplo, selecionar os dados pertencentes a apenas uma coluna, da seguinte forma:"
   ]
  },
  {
   "cell_type": "code",
   "execution_count": 35,
   "metadata": {},
   "outputs": [
    {
     "data": {
      "text/plain": [
       "array([0, 1, 2, 3, 4, 5, 6, 7, 8])"
      ]
     },
     "execution_count": 35,
     "metadata": {},
     "output_type": "execute_result"
    }
   ],
   "source": [
    "df.column_1.values"
   ]
  },
  {
   "cell_type": "markdown",
   "metadata": {},
   "source": [
    "Operações com os dados também são realizadas de forma facilitada:"
   ]
  },
  {
   "cell_type": "code",
   "execution_count": 36,
   "metadata": {},
   "outputs": [
    {
     "data": {
      "text/plain": [
       "0      0\n",
       "1     10\n",
       "2     22\n",
       "3     36\n",
       "4     52\n",
       "5     70\n",
       "6     90\n",
       "7    112\n",
       "8    136\n",
       "dtype: int64"
      ]
     },
     "execution_count": 36,
     "metadata": {},
     "output_type": "execute_result"
    }
   ],
   "source": [
    "df.eval('column_1 * column_2')"
   ]
  },
  {
   "cell_type": "markdown",
   "metadata": {},
   "source": [
    "Outros objetos pythonicos podem ser transformados em DataFrames através dos metodos apropriados, como por exemplo:"
   ]
  },
  {
   "cell_type": "code",
   "execution_count": 37,
   "metadata": {},
   "outputs": [
    {
     "data": {
      "text/plain": [
       "{'column_1': [1, 2, 3, 4], 'column_2': [5, 6, 7, 8]}"
      ]
     },
     "execution_count": 37,
     "metadata": {},
     "output_type": "execute_result"
    }
   ],
   "source": [
    "dict_df = {'column_1':[1,2,3,4], 'column_2':[5,6,7,8]}\n",
    "dict_df"
   ]
  },
  {
   "cell_type": "code",
   "execution_count": 38,
   "metadata": {},
   "outputs": [
    {
     "data": {
      "text/html": [
       "<div>\n",
       "<style scoped>\n",
       "    .dataframe tbody tr th:only-of-type {\n",
       "        vertical-align: middle;\n",
       "    }\n",
       "\n",
       "    .dataframe tbody tr th {\n",
       "        vertical-align: top;\n",
       "    }\n",
       "\n",
       "    .dataframe thead th {\n",
       "        text-align: right;\n",
       "    }\n",
       "</style>\n",
       "<table border=\"1\" class=\"dataframe\">\n",
       "  <thead>\n",
       "    <tr style=\"text-align: right;\">\n",
       "      <th></th>\n",
       "      <th>column_1</th>\n",
       "      <th>column_2</th>\n",
       "    </tr>\n",
       "  </thead>\n",
       "  <tbody>\n",
       "    <tr>\n",
       "      <th>0</th>\n",
       "      <td>1</td>\n",
       "      <td>5</td>\n",
       "    </tr>\n",
       "    <tr>\n",
       "      <th>1</th>\n",
       "      <td>2</td>\n",
       "      <td>6</td>\n",
       "    </tr>\n",
       "    <tr>\n",
       "      <th>2</th>\n",
       "      <td>3</td>\n",
       "      <td>7</td>\n",
       "    </tr>\n",
       "    <tr>\n",
       "      <th>3</th>\n",
       "      <td>4</td>\n",
       "      <td>8</td>\n",
       "    </tr>\n",
       "  </tbody>\n",
       "</table>\n",
       "</div>"
      ],
      "text/plain": [
       "   column_1  column_2\n",
       "0         1         5\n",
       "1         2         6\n",
       "2         3         7\n",
       "3         4         8"
      ]
     },
     "execution_count": 38,
     "metadata": {},
     "output_type": "execute_result"
    }
   ],
   "source": [
    "df_from_dict = pd.DataFrame().from_dict(dict_df)\n",
    "df_from_dict"
   ]
  },
  {
   "cell_type": "markdown",
   "metadata": {},
   "source": [
    "Estatística é fácil com o pandas:"
   ]
  },
  {
   "cell_type": "code",
   "execution_count": 39,
   "metadata": {},
   "outputs": [
    {
     "data": {
      "text/plain": [
       "column_1    2.5\n",
       "column_2    6.5\n",
       "dtype: float64"
      ]
     },
     "execution_count": 39,
     "metadata": {},
     "output_type": "execute_result"
    }
   ],
   "source": [
    "df_from_dict.mean() # média"
   ]
  },
  {
   "cell_type": "code",
   "execution_count": 40,
   "metadata": {},
   "outputs": [
    {
     "data": {
      "text/plain": [
       "column_1    2.5\n",
       "column_2    6.5\n",
       "dtype: float64"
      ]
     },
     "execution_count": 40,
     "metadata": {},
     "output_type": "execute_result"
    }
   ],
   "source": [
    "df_from_dict.median() # mediana"
   ]
  },
  {
   "cell_type": "code",
   "execution_count": 41,
   "metadata": {},
   "outputs": [
    {
     "data": {
      "text/plain": [
       "column_1    1.666667\n",
       "column_2    1.666667\n",
       "dtype: float64"
      ]
     },
     "execution_count": 41,
     "metadata": {},
     "output_type": "execute_result"
    }
   ],
   "source": [
    "df_from_dict.var() # variância"
   ]
  },
  {
   "cell_type": "code",
   "execution_count": 42,
   "metadata": {},
   "outputs": [
    {
     "data": {
      "text/html": [
       "<div>\n",
       "<style scoped>\n",
       "    .dataframe tbody tr th:only-of-type {\n",
       "        vertical-align: middle;\n",
       "    }\n",
       "\n",
       "    .dataframe tbody tr th {\n",
       "        vertical-align: top;\n",
       "    }\n",
       "\n",
       "    .dataframe thead th {\n",
       "        text-align: right;\n",
       "    }\n",
       "</style>\n",
       "<table border=\"1\" class=\"dataframe\">\n",
       "  <thead>\n",
       "    <tr style=\"text-align: right;\">\n",
       "      <th></th>\n",
       "      <th>column_1</th>\n",
       "      <th>column_2</th>\n",
       "    </tr>\n",
       "  </thead>\n",
       "  <tbody>\n",
       "    <tr>\n",
       "      <th>count</th>\n",
       "      <td>4.000000</td>\n",
       "      <td>4.000000</td>\n",
       "    </tr>\n",
       "    <tr>\n",
       "      <th>mean</th>\n",
       "      <td>2.500000</td>\n",
       "      <td>6.500000</td>\n",
       "    </tr>\n",
       "    <tr>\n",
       "      <th>std</th>\n",
       "      <td>1.290994</td>\n",
       "      <td>1.290994</td>\n",
       "    </tr>\n",
       "    <tr>\n",
       "      <th>min</th>\n",
       "      <td>1.000000</td>\n",
       "      <td>5.000000</td>\n",
       "    </tr>\n",
       "    <tr>\n",
       "      <th>25%</th>\n",
       "      <td>1.750000</td>\n",
       "      <td>5.750000</td>\n",
       "    </tr>\n",
       "    <tr>\n",
       "      <th>50%</th>\n",
       "      <td>2.500000</td>\n",
       "      <td>6.500000</td>\n",
       "    </tr>\n",
       "    <tr>\n",
       "      <th>75%</th>\n",
       "      <td>3.250000</td>\n",
       "      <td>7.250000</td>\n",
       "    </tr>\n",
       "    <tr>\n",
       "      <th>max</th>\n",
       "      <td>4.000000</td>\n",
       "      <td>8.000000</td>\n",
       "    </tr>\n",
       "  </tbody>\n",
       "</table>\n",
       "</div>"
      ],
      "text/plain": [
       "       column_1  column_2\n",
       "count  4.000000  4.000000\n",
       "mean   2.500000  6.500000\n",
       "std    1.290994  1.290994\n",
       "min    1.000000  5.000000\n",
       "25%    1.750000  5.750000\n",
       "50%    2.500000  6.500000\n",
       "75%    3.250000  7.250000\n",
       "max    4.000000  8.000000"
      ]
     },
     "execution_count": 42,
     "metadata": {},
     "output_type": "execute_result"
    }
   ],
   "source": [
    "df_from_dict.describe() # descreve as distribuições em momentos estatísticos"
   ]
  },
  {
   "cell_type": "markdown",
   "metadata": {},
   "source": [
    "Para explorações rápidas, pode-se plotar os dados diretamente do DataFrame:"
   ]
  },
  {
   "cell_type": "code",
   "execution_count": 43,
   "metadata": {},
   "outputs": [
    {
     "data": {
      "text/plain": [
       "<matplotlib.axes._subplots.AxesSubplot at 0x7fd12844a7b8>"
      ]
     },
     "execution_count": 43,
     "metadata": {},
     "output_type": "execute_result"
    },
    {
     "data": {
      "image/png": "[encoded data removed]",
      "text/plain": [
       "<Figure size 432x288 with 1 Axes>"
      ]
     },
     "metadata": {},
     "output_type": "display_data"
    }
   ],
   "source": [
    "%matplotlib inline\n",
    "df_from_dict.plot()"
   ]
  },
  {
   "cell_type": "markdown",
   "metadata": {},
   "source": [
    "O pandas também possui a estrutura de dados \"Series\", que é extremamente útil quando deve-se lidar com dados temporais.\n",
    "A [documentação completa](http://pandas.pydata.org/pandas-docs/stable/api.html) esclarece maiores informações sobre esse modulo tão poderoso. Gaste seu tempo aprendendo a lidar com o pandas, pois ele será um dos seus melhores amigos na hora de fazer análise de dados e resultados."
   ]
  },
  {
   "cell_type": "markdown",
   "metadata": {},
   "source": [
    "# Plotando com Matplotlib\n",
    "\n",
    "Uma das grandes vantagens do Jupyter notebook é a possibilidade de gerar visualizações integradas com suas linhas de código. Essa possibilidade torna o notebook uma excelente ferramente para exploração e ciência de dados.\n",
    "\n",
    "Como tutorial básico, vamos plotar alguns exemplos utilizando o Matplotlib, a biblioteca *de facto standard* de visualização do python."
   ]
  },
  {
   "cell_type": "code",
   "execution_count": 44,
   "metadata": {},
   "outputs": [
    {
     "data": {
      "image/png": "[encoded data removed]",
      "text/plain": [
       "<Figure size 432x288 with 1 Axes>"
      ]
     },
     "metadata": {},
     "output_type": "display_data"
    }
   ],
   "source": [
    "%matplotlib inline\n",
    "# comando magico do jupyter para visualizações inline\n",
    "import matplotlib.pyplot as plt # importamos a biblioteca\n",
    "\n",
    "plt.plot([1,2,3,4]) # da os valores para serem exibidos\n",
    "plt.ylabel('some numbers') # define a legenda no eixo y\n",
    "plt.show() # exibe a figura"
   ]
  },
  {
   "cell_type": "code",
   "execution_count": 45,
   "metadata": {},
   "outputs": [
    {
     "data": {
      "image/png": "[encoded data removed]",
      "text/plain": [
       "<Figure size 864x288 with 2 Axes>"
      ]
     },
     "metadata": {},
     "output_type": "display_data"
    }
   ],
   "source": [
    "import numpy as np\n",
    "import matplotlib.pyplot as plt\n",
    "\n",
    "# define a funçao a ser visualizada\n",
    "def f(t):\n",
    "    return np.exp(-t) * np.cos(2*np.pi*t)\n",
    "\n",
    "# define as variaveis\n",
    "t1 = np.arange(0.0, 5.0, 0.1) \n",
    "t2 = np.arange(0.0, 5.0, 0.02)\n",
    "\n",
    "plt.figure(1, figsize=(12,4)) # define a figura e suas propriedades, como numero e tamanho\n",
    "plt.subplot(211) # define o subplot\n",
    "plt.plot(t1, f(t1), 'bo', t2, f(t2), 'k') # define os dadosda figura, tipo de linha, etc\n",
    "\n",
    "plt.subplot(212)\n",
    "plt.plot(t2, np.cos(2*np.pi*t2), 'r--')\n",
    "plt.show() # mostra a figura"
   ]
  },
  {
   "cell_type": "markdown",
   "metadata": {},
   "source": [
    "Outro exemplos podem ser encontrados na [documentação](http://matplotlib.org/index.html) e [galeria](http://matplotlib.org/gallery.html) do Matplotlib. Sua utilização é simples, e muito provavelmente você encontrará  a visualização que necessita praticamente pronta na galeria."
   ]
  },
  {
   "cell_type": "markdown",
   "metadata": {},
   "source": [
    "# Plotando com o Seaborn\n",
    "\n",
    "O Seaborn é uma camada de alto nível sobre o matplotlib que facilita o trabalho de visualização.\n",
    "\n",
    "Vamos a alguns exemplos:"
   ]
  },
  {
   "cell_type": "code",
   "execution_count": 46,
   "metadata": {},
   "outputs": [
    {
     "data": {
      "image/png": "[encoded data removed]",
      "text/plain": [
       "<Figure size 576x432 with 3 Axes>"
      ]
     },
     "metadata": {},
     "output_type": "display_data"
    }
   ],
   "source": [
    "import numpy as np\n",
    "import seaborn as sns\n",
    "import matplotlib.pyplot as plt\n",
    "sns.set(style=\"white\", context=\"talk\")\n",
    "rs = np.random.RandomState(7)\n",
    "\n",
    "# Cria e configura a figura\n",
    "f, (ax1, ax2, ax3) = plt.subplots(3, 1, figsize=(8, 6), sharex=True)\n",
    "\n",
    "# Gera dados para demonstraçao\n",
    "x = np.array(list(\"ABCDEFGHI\"))\n",
    "y1 = np.arange(1, 10)\n",
    "sns.barplot(x, y1, palette=\"BuGn_d\", ax=ax1)\n",
    "ax1.set_ylabel(\"Sequential\")\n",
    "\n",
    "# Trata dados\n",
    "y2 = y1 - 5\n",
    "sns.barplot(x, y2, palette=\"RdBu_r\", ax=ax2)\n",
    "ax2.set_ylabel(\"Diverging\")\n",
    "\n",
    "# Embaralha dados\n",
    "y3 = rs.choice(y1, 9, replace=False)\n",
    "sns.barplot(x, y3, palette=\"Set3\", ax=ax3)\n",
    "ax3.set_ylabel(\"Qualitative\")\n",
    "\n",
    "# Mostra a figura\n",
    "sns.despine(bottom=True)\n",
    "plt.setp(f.axes, yticks=[])\n",
    "plt.tight_layout(h_pad=3)"
   ]
  },
  {
   "cell_type": "code",
   "execution_count": 47,
   "metadata": {},
   "outputs": [
    {
     "data": {
      "text/plain": [
       "<seaborn.axisgrid.FacetGrid at 0x7fd126225160>"
      ]
     },
     "execution_count": 47,
     "metadata": {},
     "output_type": "execute_result"
    },
    {
     "data": {
      "image/png": "[encoded data removed]",
      "text/plain": [
       "<Figure size 580.675x504 with 1 Axes>"
      ]
     },
     "metadata": {},
     "output_type": "display_data"
    }
   ],
   "source": [
    "import seaborn as sns\n",
    "sns.set(style=\"ticks\", context=\"talk\")\n",
    "\n",
    "# Carrega dados de exemplo\n",
    "tips = sns.load_dataset(\"tips\")\n",
    "\n",
    "# Cria uma paleta de cores especial\n",
    "pal = sns.cubehelix_palette(4, 1.5, .75, light=.6, dark=.2)\n",
    "\n",
    "# Plota os dados do dataset\n",
    "g = sns.lmplot(x=\"total_bill\", y=\"tip\", hue=\"day\", data=tips,\n",
    "               palette=pal, size=7)\n",
    "\n",
    "# Melhora as legendas\n",
    "g.set_axis_labels(\"Total bill ($)\", \"Tip ($)\")"
   ]
  },
  {
   "cell_type": "markdown",
   "metadata": {},
   "source": [
    "Assim como o Matplotlib, o Seaborn tem uma [documentação](https://seaborn.pydata.org/index.html) completa com [galeria de exemplos](https://seaborn.pydata.org/examples/index.html)."
   ]
  }
 ],
 "metadata": {
  "kernelspec": {
   "display_name": "Python 3",
   "language": "python",
   "name": "python3"
  },
  "language_info": {
   "codemirror_mode": {
    "name": "ipython",
    "version": 3
   },
   "file_extension": ".py",
   "mimetype": "text/x-python",
   "name": "python",
   "nbconvert_exporter": "python",
   "pygments_lexer": "ipython3",
   "version": "3.6.4"
  }
 },
 "nbformat": 4,
 "nbformat_minor": 2
}
