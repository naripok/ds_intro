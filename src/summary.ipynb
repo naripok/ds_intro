{
 "cells": [
  {
   "cell_type": "markdown",
   "metadata": {
    "colab_type": "text",
    "id": "zg7KlGAteplt"
   },
   "source": [
    "#### Departamento de Engenharia Elétrica - UFV\n",
    "\n",
    "---\n",
    "\n",
    "# Introdução a Ciência de Dados em Python\n",
    "\n",
    "## Sumário\n",
    "\n",
    "#### Programação em Python\n",
    "- [Ambientes Virtuais e Instalação](./installation.html)\n",
    "- [Introdução ao Python](./intro_py.html)\n",
    "- [Introdução ao Numpy](./intro_numpy.html)\n",
    "- [Introdução ao Pandas](./intro_pandas.html)\n",
    "- [Introdução ao Matplotlib e Seaborn](./intro_mpl.html)\n",
    "  \n",
    "#### Estatística em Python\n",
    "- [Variáveis Aleatórias](./random_variables.html)\n",
    "- [Estimativas potuais: Média e Variância](./mean_var.html)\n",
    "- [Momento Estatístico](./stat_moments.html)\n",
    "- [Intervalos de Confiança](./confidence_intervals.html)\n",
    "- [Teste de Hipótese](./hypothesis.html)\n",
    "- [P-hacking e Viés de Comparações Múltiplas](./p_hacking.html)\n",
    "  \n",
    "#### Aprendizado de máquina em Python\n",
    "- [Introdução a Aprendizado de Máquina](./intro_ml.html)\n",
    "- [Modelos Hierárquicos em Python](./nn_models.html)\n",
    "- [Análise de Resíduos](./ana_res.html)\n",
    "- [Violação das Suposições do Modelos](./model_violation.html)\n",
    "- [Instabilidade em Modelos de Regressão](./reg_insta.html)\n",
    "- [Reinforcement Learning com Blackjack](./blackjack_microchallenge.html)\n",
    "\n",
    "\n",
    "## Referências e Bibliografia\n",
    "\n",
    "- [Python Docs](https://docs.python.org/3/)\n",
    "\n",
    "- [A Byte of Python - Swaroop C H](https://python.swaroopch.com/)\n",
    "\n",
    "- [Learn Python the Hard Way, 3rd, Addison-Wesley](https://learncodethehardway.org/python/)  \n",
    "\n",
    "\n",
    "#### Cursos relacionados\n",
    "- [Introduction to Computer Science and Programming in Python - MIT](https://ocw.mit.edu/courses/electrical-engineering-and-computer-science/6-0001-introduction-to-computer-science-and-programming-in-python-fall-2016/)\n",
    "\n",
    "- [Introduction to Computational Thinking and Data Science - MIT](https://ocw.mit.edu/courses/electrical-engineering-and-computer-science/6-0002-introduction-to-computational-thinking-and-data-science-fall-2016/)\n",
    "\n",
    "- [Artificial Intelligence - MIT](https://ocw.mit.edu/courses/electrical-engineering-and-computer-science/6-034-artificial-intelligence-fall-2010/)\n",
    "\n",
    "- [Introduction to Reinforcement Learning - David Silver, DeepMind](https://www.youtube.com/watch?v=2pWv7GOvuf0&list=PL7-jPKtc4r78-wCZcQn5IqyuWhBZ8fOxT)\n",
    "\n",
    "- [Introduction to Machine Learning - Nando Freitas, UBC](https://www.youtube.com/watch?v=pid0lUH467o&list=PLE6Wd9FR--Ecf_5nCbnSQMHqORpiChfJf)\n",
    "\n",
    "- [Machine Learning - Andrew Ng, Stanford](https://www.youtube.com/watch?v=UzxYlbK2c7E&list=PLJ_CMbwA6bT-n1W0mgOlYwccZ-j6gBXqE)\n",
    "\n",
    "\n",
    "#### Material extra\n",
    "\n",
    "- [Kaggle](https://www.kaggle.com/)\n",
    "\n",
    "- [Quantopian Lectures](https://www.quantopian.com/lectures)"
   ]
  }
 ],
 "metadata": {
  "colab": {
   "collapsed_sections": [],
   "name": "summary.ipynb",
   "provenance": [],
   "toc_visible": true
  },
  "kernelspec": {
   "display_name": "Python 3",
   "language": "python",
   "name": "python3"
  },
  "language_info": {
   "codemirror_mode": {
    "name": "ipython",
    "version": 3
   },
   "file_extension": ".py",
   "mimetype": "text/x-python",
   "name": "python",
   "nbconvert_exporter": "python",
   "pygments_lexer": "ipython3",
   "version": "3.8.2"
  }
 },
 "nbformat": 4,
 "nbformat_minor": 1
}
