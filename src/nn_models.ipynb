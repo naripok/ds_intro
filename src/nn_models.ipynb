{
 "cells": [
  {
   "cell_type": "markdown",
   "metadata": {},
   "source": [
    "# Redes Neurais Artificiais, Tensorflow e Keras\n",
    "\n",
    "No contexto de modelagem e aprendizado de máquina, as [redes neurais artificiais profundas](https://pt.wikipedia.org/wiki/Aprendizagem_profunda) vem tomando seu lugar no estado de arte como tecnicas de modelagem extremamente poderosas. Suas propriedaes intrínsecas permitem a estas estruturas aprenderem representações hierarquicas de alto nível baseadas nos dados de treinamento. Esta capacidade torna as redes neurais profundas ótimas estruturas de compressão de dados, com possibilidade de otimização utilizando propagação reversa dos gradientes (modelo diferenciavel), o que torna o seu treinamento eficiente e de rápida convergencia.\n",
    "\n",
    "O Tensorflow é uma biblioteca da Google com *bindings* em Python, capaz de gerar e computar grafos matemáticos com altíssima eficiência. Esta biblioteca poderosíssima esta em constante evolução e vem sendo empregada em todos os setores da indústria.\n",
    "\n",
    "O Keras nada mais é do que um modulo de alto nível por cima do Tensorflow, muito bom para prototipagem rápida e implementação de redes neurais artificiais.\n",
    "\n",
    "Nesta sessão faremos uso do Keras para implementar redes neurais artificiais e utiliza-las para fazer predições sobre problemas de *Supervised Learning*.\n",
    "\n",
    "Vamos utilizar para demonstração o clássico dataset MNIST. Este conjunto de dados consiste em imagens de digitos manuscritos de 0 a 9, com os respectivos rótulos associados. Estes ultimos serão utilizados como sinal de supervisão. Nosso objetivo é aprender o mapeamento entre os pixels da imagem e a respectiva classe (0 a 9) ao qual aquele digito pertence.\n",
    "\n",
    "Inicialmente, vamos carregar o banco de dados do repositório de exemplos do tensorflow."
   ]
  },
  {
   "cell_type": "code",
   "execution_count": 1,
   "metadata": {},
   "outputs": [],
   "source": [
    "%matplotlib inline\n",
    "import matplotlib.pyplot as plt\n",
    "import numpy as np\n",
    "import tensorflow as tf\n",
    "from tensorflow import keras"
   ]
  },
  {
   "cell_type": "code",
   "execution_count": 2,
   "metadata": {},
   "outputs": [
    {
     "data": {
      "text/plain": [
       "(60000, 28, 28)"
      ]
     },
     "execution_count": 2,
     "metadata": {},
     "output_type": "execute_result"
    }
   ],
   "source": [
    "# from tensorflow.examples.tutorials.mnist import input_data\n",
    "\n",
    "# mnist = input_data.read_data_sets('MNIST_data', one_hot=True)\n",
    "\n",
    "# import tensorflow_datasets as tfds\n",
    "# ds_train = tfds.load(name=\"mnist\", split=\"train\")\n",
    "# assert isinstance(ds_train, tf.data.Dataset)\n",
    "# print(ds_train)\n",
    "\n",
    "mnist = keras.datasets.mnist\n",
    "\n",
    "(x_train, y_train), (x_test, y_test) = mnist.load_data()\n",
    "x_train, x_test = x_train / 255.0, x_test / 255.0\n",
    "\n",
    "x_train.shape"
   ]
  },
  {
   "cell_type": "code",
   "execution_count": 3,
   "metadata": {},
   "outputs": [
    {
     "data": {
      "text/plain": [
       "array([5], dtype=uint8)"
      ]
     },
     "execution_count": 3,
     "metadata": {},
     "output_type": "execute_result"
    }
   ],
   "source": [
    "y_train[:1]"
   ]
  },
  {
   "cell_type": "code",
   "execution_count": 4,
   "metadata": {},
   "outputs": [],
   "source": [
    "x_val, y_val = x_train[-10000:], y_train[-10000:]\n",
    "x_train, y_train = x_train[:-10000], y_train[:-10000]"
   ]
  },
  {
   "cell_type": "markdown",
   "metadata": {},
   "source": [
    "Desta vez, vamos utilizar o *Mini Batch Stochastic Gradient Descent* como algoritmo de otimização. Esta tecnica utiliza amostras retiradas dos dados para calcular o gradiente do erro com relação aos parâmetros do modelo e realizar a atualização dos parâmetros."
   ]
  },
  {
   "cell_type": "markdown",
   "metadata": {},
   "source": [
    "Vemos que a amostra contém três figuras de 784 pixels em um array *C-ordered*, cada uma com sua respectiva classe codificada em um array *one-hot*. São três figuras pois este foi o argumento passado ao método \"next_batch\".\n",
    "\n",
    "O array *one-hot* é um tipo de codificação para variáveis multiclasse muito útil, e indica que a amostra é da classe $ i $, sendo $i$ o indice do elemento do array onde o elemento é igual a 1, ou seja, um array do tipo [0,0,1,0,0,0,0,0,0,0], por exemplo, indica que a figura representa o número 2.\n",
    "\n",
    "As figuras podem ser visualizadas com o código a seguir:"
   ]
  },
  {
   "cell_type": "code",
   "execution_count": 5,
   "metadata": {},
   "outputs": [
    {
     "data": {
      "image/png": "[encoded data removed]",
      "text/plain": [
       "<Figure size 432x288 with 2 Axes>"
      ]
     },
     "metadata": {
      "needs_background": "light"
     },
     "output_type": "display_data"
    }
   ],
   "source": [
    "plt.figure()\n",
    "plt.imshow(x_train[0])\n",
    "plt.colorbar()\n",
    "plt.grid(False)\n",
    "plt.show()"
   ]
  },
  {
   "cell_type": "markdown",
   "metadata": {},
   "source": [
    "Para ilustrar o processo de codificar e treinar uma rede neural profunda em python, vamos utilizar o numpy como biblioteca matemática e fazer isto do rascunho para cima.\n",
    "\n",
    "Iniciaremos declarando as funções auxiliares ao nosso processo.\n",
    "\n",
    "- A primeira função define a estrutura do nosso modelo e inicializa suas variáveis. Uma grande variedade de inicializações pseudo-aleatórias dos pesos está disponível na literatura e o modo como se inicializa os pesos de uma rede neural profunda afeta como ela aprende. Este efeito é ligado principalmente ao fenomeno dos [*Vanishing Gradients*](https://en.wikipedia.org/wiki/Vanishing_gradient_problem), ou gradientes que desaparecem. Mais sobre este assunto mais à frente. Aqui, inicializaremos nosos pesos com distribuição normal de média zero e variancia 0.1.\n",
    "\n",
    "### Multilayer Perceptron"
   ]
  },
  {
   "cell_type": "code",
   "execution_count": 6,
   "metadata": {},
   "outputs": [],
   "source": [
    "np.random.seed(42)                                      # fixa a random seed para obter repetibilidade dos resultados\n",
    "\n",
    "def mlp(n_in, n_hidden, n_out):                         # Funçao de inicializaçao das variaveis da rede neural\n",
    "\n",
    "    U = np.random.normal(size=(n_hidden, n_in))         # Pesos da primeira layer (Distribuiçao normal com desvio 0.1 e shape (n_in, n_hidden)\n",
    "    V = np.random.normal(size=(n_hidden, n_hidden))     # O mesmo para a segunda layer\n",
    "    W = np.random.normal(size=(n_out, n_hidden))        # pesos layer de saida\n",
    "\n",
    "    bu = np.zeros(n_hidden)                             # Inicializa bias da primeira layer\n",
    "    bv = np.zeros(n_hidden)                             # mesmo segunda layer\n",
    "    bw = np.zeros(n_out)                                # Bias de saída\n",
    "\n",
    "    params = [U,V,W,bu,bv,bw]                           # transforma os parametros em lista de parametros\n",
    "\n",
    "    return params                                       # retorna parametros"
   ]
  },
  {
   "cell_type": "markdown",
   "metadata": {},
   "source": [
    "- A segunda função é a função de ativação dos neuronios a ser utilizada. Neste caso, usaremos a função sigmoid."
   ]
  },
  {
   "cell_type": "code",
   "execution_count": 7,
   "metadata": {},
   "outputs": [],
   "source": [
    "class Sigmoid:\n",
    "    @classmethod\n",
    "    def forward(cls, X):\n",
    "        return 1.0 / (1.0 + np.exp(-X))\n",
    "    \n",
    "    @classmethod\n",
    "    def backward(cls, X):\n",
    "        output = cls.forward(X)\n",
    "        return (1.0 - output) * output\n",
    "\n",
    "def one_hot(targets, nb_classes):\n",
    "    res = np.eye(nb_classes)[np.array(targets).reshape(-1)]\n",
    "    return res.reshape(list(targets.shape)+[nb_classes])"
   ]
  },
  {
   "cell_type": "markdown",
   "metadata": {},
   "source": [
    "- A terceira função é a função de propagação direta da nossa rede neural, e será usada para fazer inferência."
   ]
  },
  {
   "cell_type": "code",
   "execution_count": 8,
   "metadata": {},
   "outputs": [],
   "source": [
    "def predict(x, U, V, W, bu, bv, bw):    # Realiza prediçoes com a rede neural\n",
    "    A = np.dot(U, x) + bu               # Calcula a saída da layer 1 sem ativaçao\n",
    "    B = np.dot(V, Sigmoid.forward(A)) + bv      # Calcula a saida da layer de dois sem ativaçao\n",
    "    C = np.dot(W, Sigmoid.forward(B)) + bw      # saida layer, saida sem ativaçao\n",
    "    Z = Sigmoid.forward(C)                      # ativaçao layer saida\n",
    "    index = np.argmax(Z)                # adquire o index no array de 1 a 10 que corresponde ao valor da prediçao\n",
    "    out = np.zeros((1, 10))             # cria array de dez valores 0\n",
    "    out[0, index] = 1                   # atribui valor 1 ao valor no array cujo index corresponde a saída da layer\n",
    "    return Z, out.astype(int)           # retorna probabilidade de cada valor, prediçao em one-hot"
   ]
  },
  {
   "cell_type": "markdown",
   "metadata": {},
   "source": [
    "Como medida de custo, vamos utilizar a entropia relativa entre os as distribuições de probabilidade das nossas previsões e dos dados de referência.  \n",
    "Ver: \n",
    "[Cross Entropy](https://en.wikipedia.org/wiki/Cross_entropy), \n",
    "[KL divergence](https://en.wikipedia.org/wiki/Kullback%E2%80%93Leibler_divergence#Cross_entropy)"
   ]
  },
  {
   "cell_type": "code",
   "execution_count": 9,
   "metadata": {},
   "outputs": [],
   "source": [
    "def cross_entropy(y_hat, y):\n",
    "    return -np.mean(y_hat * np.log(y) + (1 - y_hat) * np.log(1 - y))"
   ]
  },
  {
   "cell_type": "markdown",
   "metadata": {},
   "source": [
    "- A quarta e última função é a função de propagação reversa da rede neural. Esta função trata de calcular os gradientes do erro em relação aos parâmetros do modelo. Utilizar estes gradientes para atualizar os pesos do modelo em questão é chamado *Gradient Descent*. Quando ele é feito em amostrar menores do *dataset*, ele se torna o *Stochastic Gradient Descent*."
   ]
  },
  {
   "cell_type": "code",
   "execution_count": 10,
   "metadata": {},
   "outputs": [],
   "source": [
    "def batch_generator(x, y, batch_size=64, n_out=10):\n",
    "    idx = 0\n",
    "    while True:\n",
    "        yield x[idx:idx+batch_size].reshape((-1, 784)), one_hot(y[idx:idx+batch_size], n_out)\n",
    "        idx += batch_size\n",
    "        if idx >= x.shape[0]:\n",
    "            idx=0\n",
    "\n",
    "def train(x, y, U, V, W, bu, bv, bw): #funçao treinamento\n",
    "    \"\"\"\n",
    "    PARAMETROS: x = input data\n",
    "                V =  Pesos da primeira layer\n",
    "                W =  Pesos da segunda layer\n",
    "                bv = Bias da primeiralayer\n",
    "                bw = Bias da segunda layer\n",
    "\n",
    "    \"\"\"\n",
    "    # forward propagation\n",
    "    A = np.dot(U, x) + bu   # realiza a multiplicaçao escalar da entrada pelos pesos da primeira layer\n",
    "                            # e adidiona o valor do bias\n",
    "\n",
    "    B = np.dot(V, Sigmoid.forward(A)) + bv   # realiza a multiplicaçao matricial da saida da ativaçao sigmoid da primeira layer\n",
    "                                     # pelos pesos da segunda layer e adiciona os bias para esta layer\n",
    "        \n",
    "    C = np.dot(W, Sigmoid.forward(B)) + bw   # mesmo com a layer de saida\n",
    "    \n",
    "    Y = Sigmoid.forward(C)                   # ativaçao da layer de saida\n",
    "    \n",
    "\n",
    "    # backward propagation (https://en.wikipedia.org/wiki/Backpropagation)\n",
    "    Ew = Y - y                                # Diferença do valor da saída predita pela saída esperada (gradiente)\n",
    "    Ev = Sigmoid.backward(B) * np.dot(Ew, W)  # Calcula o erro para a layer DOIS (Gradiente do erro * pesos da segunda layer) * sigmoid(hidden))\n",
    "    Eu = Sigmoid.backward(A) * np.dot(Ev, V)  # mesmo para layer um\n",
    "    \n",
    "    # Deltas utilizados para atualizar os pesos da rede\n",
    "    dW = np.outer(Ew, Sigmoid.backward(B))    # DeltaW, Calcula a distributiva de cada termo do array e retorna lista de arrays distribuidos\n",
    "    dV = np.outer(Ev, Sigmoid.backward(A))    # DeltaV  , Hadamard product\n",
    "    dU = np.outer(Eu, x)                      # mesmo\n",
    "    loss = cross_entropy(y, Y) #funçao loss = cross-entropy\n",
    "\n",
    "    return  Y, loss, (dU, dV, dW, Eu, Ev, Ew)  #retorna o valor da funçao custo e o gradiente do erro em funçao dos pesos e bias"
   ]
  },
  {
   "cell_type": "markdown",
   "metadata": {},
   "source": [
    "O código a seguir implementa a rotina de treinamento do modelo no *dataset* em amostras, ou *batches*. Aqui, chamamos a função *train* em cada amostra e acumulamos os gradientes durante um *batch*. Atualizamos então os pesos do nosso modelo com a subtração dos gradientes mais um valor de momento para acelerar o treinamento. Este algoritmo é uma das formas mais simples de *Stochastic Gradient Descent* e variações mais poderosas estão disponíveis na literatura e implementadas e prontas para uso em modulos de amprendizado de máquina."
   ]
  },
  {
   "cell_type": "code",
   "execution_count": 11,
   "metadata": {},
   "outputs": [
    {
     "name": "stdout",
     "output_type": "stream",
     "text": [
      "Start Training Session\n",
      "Train Epoch 0 -> Loss: 2.089957762955758, Accuracy: 10.9375 %\n",
      "Eval  Epoch 0 -> Loss: 1.1153353036938158, Accuracy: 10.9375 %\n",
      "Train Epoch 9 -> Loss: 0.26125735927417715, Accuracy: 60.9375 %\n",
      "Eval  Epoch 9 -> Loss: 0.24853204842210214, Accuracy: 62.5 %\n",
      "Train Epoch 19 -> Loss: 0.21046313510862447, Accuracy: 72.65625 %\n",
      "Eval  Epoch 19 -> Loss: 0.17281754065973265, Accuracy: 76.5625 %\n",
      "Train Epoch 29 -> Loss: 0.14394843020927053, Accuracy: 77.34375 %\n",
      "Eval  Epoch 29 -> Loss: 0.17292715071662856, Accuracy: 71.875 %\n",
      "Train Epoch 39 -> Loss: 0.14262103157189635, Accuracy: 77.34375 %\n",
      "Eval  Epoch 39 -> Loss: 0.13813781085595583, Accuracy: 78.125 %\n",
      "Train Epoch 49 -> Loss: 0.12110613512261831, Accuracy: 78.90625 %\n",
      "Eval  Epoch 49 -> Loss: 0.12809258295870168, Accuracy: 81.25 %\n",
      "Train Epoch 59 -> Loss: 0.12597531689749214, Accuracy: 81.25 %\n",
      "Eval  Epoch 59 -> Loss: 0.12716567742726076, Accuracy: 81.25 %\n",
      "Train Epoch 69 -> Loss: 0.08618541669798273, Accuracy: 85.9375 %\n",
      "Eval  Epoch 69 -> Loss: 0.076414635334053, Accuracy: 89.84375 %\n",
      "Train Epoch 79 -> Loss: 0.11580468142550149, Accuracy: 83.59375 %\n",
      "Eval  Epoch 79 -> Loss: 0.121801098266107, Accuracy: 78.90625 %\n",
      "Train Epoch 89 -> Loss: 0.1271565475610042, Accuracy: 78.90625 %\n",
      "Eval  Epoch 89 -> Loss: 0.09310601439492901, Accuracy: 85.9375 %\n",
      "Train Epoch 99 -> Loss: 0.11871045106762801, Accuracy: 81.25 %\n",
      "Eval  Epoch 99 -> Loss: 0.08699245856517815, Accuracy: 85.9375 %\n"
     ]
    }
   ],
   "source": [
    "import time\n",
    "\n",
    "# Parametros de treinamento\n",
    "epochs = 100\n",
    "batch_size = 128\n",
    "learning_rate = 0.001\n",
    "momentum = 0.99\n",
    "n_hidden = 256  #numero de neuronios nas hidden layers\n",
    "\n",
    "# Treinamento\n",
    "print(\"Start Training Session\")\n",
    "\n",
    "train_err = []\n",
    "train_accu = []\n",
    "eval_err = []\n",
    "eval_accu = []\n",
    "\n",
    "mnist_train = batch_generator(x_train, y_train, batch_size)\n",
    "mnist_eval = batch_generator(x_val, y_val, batch_size)\n",
    "\n",
    "# Adquire dados\n",
    "image_sample, label_sample = next(mnist_train)\n",
    "\n",
    "# VARIAVEIS DA DNN\n",
    "n_in = image_sample.shape[1]      #numero de features de entrada, neste caso o numero de pixels da imagem\n",
    "n_out = label_sample.shape[1]     #numero de saídas do grapho, neste caso 10 classes diferentes\n",
    "n_samples = x_train.shape[0] - 1  #numero de exemplos no dataset\n",
    "\n",
    "params = mlp(n_in, n_hidden, n_out)    #inicializa variaveis da rede neural\n",
    "\n",
    "for epoch in range(epochs):\n",
    "    \n",
    "    X, Y = next(mnist_train)\n",
    "    X_eval, Y_eval = next(mnist_eval)\n",
    "    \n",
    "    err = []                                # placeholder da lista de errors\n",
    "    upd = [0]*len(params)                   # placeholder dos parametros de atualizaçao dos pesos\n",
    "    corr_pred = []                          # Bookkeeping\n",
    "    \n",
    "    for i in range(batch_size):                        # realiza treinamento\n",
    "        pred, loss, grad = train(X[i], Y[i], *params)  # chama a funçao train, o *params 'explode' a lista de parâmetros\n",
    "\n",
    "        for j in range(len(params)):                   # faz o update dos parametros da rede\n",
    "            params[j] -= upd[j]\n",
    "\n",
    "        for j in range(len(params)):                   # calcula o valor a ser atualizado nos parametros para o proximo ciclo\n",
    "            upd[j] = learning_rate * grad[j] + momentum * upd[j]    # mi*gradiente+momento*update, gradiente com momento\n",
    "        # Bookkeeping\n",
    "        err.append(loss)                                            # adquire o custo em lista de errors\n",
    "        corr_pred.append(np.argmax(Y[i]) == np.argmax(pred))        # adiciona corretude da prediçao em lista\n",
    "    \n",
    "   \n",
    "     \n",
    "    if (epoch + 1) % 10 == 0 or epoch == 0:\n",
    "        accuracy = np.mean(corr_pred) * 100     # calcula a precisao\n",
    "        print(\"Train Epoch {0} -> Loss: {1}, Accuracy: {2} %\"\n",
    "              .format(epoch, np.mean(err), np.mean(corr_pred) * 100))\n",
    "    \n",
    "        train_err.append(err)\n",
    "        train_accu.append(corr_pred)\n",
    "    \n",
    "        err = []\n",
    "        corr_pred = []\n",
    "\n",
    "        for i in range(batch_size):\n",
    "            Z, pred = predict(X_eval[i], *params)   # chama a funçao predict para fazer prediçoes com entradas\n",
    "            t_ = Y_eval[i]                          # matriz de labels real para cálculo perdas\n",
    "            eval_loss = cross_entropy(t_, Z)          \n",
    "\n",
    "            # Bookkeeping\n",
    "            err.append(eval_loss)\n",
    "            corr_pred.append(np.argmax(Y_eval[i]) == np.argmax(pred))\n",
    "        eval_err.append(err)\n",
    "        eval_accu.append(corr_pred)    \n",
    "\n",
    "        print(\"Eval  Epoch {0} -> Loss: {1}, Accuracy: {2} %\"\n",
    "                  .format(epoch, np.mean(err), np.mean(corr_pred) * 100))"
   ]
  },
  {
   "cell_type": "code",
   "execution_count": 12,
   "metadata": {},
   "outputs": [
    {
     "data": {
      "image/png": "[encoded data removed]",
      "text/plain": [
       "<Figure size 1080x576 with 1 Axes>"
      ]
     },
     "metadata": {
      "needs_background": "light"
     },
     "output_type": "display_data"
    }
   ],
   "source": [
    "plt.figure(figsize=(15,8))\n",
    "plt.title(\"Erro / Precisão x Epoca de treinamento\")\n",
    "plt.plot([np.sum(err) / len(err) for err in train_err], label='Erro');\n",
    "plt.plot([np.sum(accu) / len(accu) for accu in train_accu], label='Precisão');\n",
    "plt.plot([np.sum(err) / len(err) for err in eval_err], label='Erro Validação');\n",
    "plt.plot([np.sum(accu) / len(accu) for accu in eval_accu], label='Precisão Validação');\n",
    "plt.legend();\n",
    "plt.grid();"
   ]
  },
  {
   "cell_type": "markdown",
   "metadata": {},
   "source": [
    "Nota-se o processo de treinamento surtindo efeito sobre o erro médio e a precisão das predições do modelo. Nota-se ainda como o erro médio e precisão das amostras de teste seguem com proximidade as medidas das amostras de treinamento, indicando que não há processo de *overfiting* acontecendo. Falaremos mais sobre esse assunto mais a frente.\n",
    "\n",
    "Demonstrada a complexidade de se implementar até mesmo um *Multilayer Perceptron* simples matematicamente com o numpy, vamos entender a implementação do mesmo modelo utilizando o Keras, o modulo de alto nível sobre o Tensorflow.\n",
    "\n",
    "Iniciamos instanciando nosso modelo:"
   ]
  },
  {
   "cell_type": "code",
   "execution_count": 13,
   "metadata": {},
   "outputs": [],
   "source": [
    "model = tf.keras.models.Sequential([\n",
    "  tf.keras.layers.Flatten(input_shape=(28, 28)),\n",
    "  tf.keras.layers.Dense(256, activation='sigmoid'),\n",
    "  tf.keras.layers.Dense(256, activation='sigmoid'),\n",
    "  tf.keras.layers.Dense(10)\n",
    "])"
   ]
  },
  {
   "cell_type": "markdown",
   "metadata": {},
   "source": [
    "Podemos inferir nosso modelo fazendo sua aplicação (chama a função `__cal__`) nos dados desejados:"
   ]
  },
  {
   "cell_type": "code",
   "execution_count": 14,
   "metadata": {},
   "outputs": [
    {
     "data": {
      "text/plain": [
       "array([[-0.81475616,  0.40218908,  1.2794169 ,  0.39987296,  0.31723362,\n",
       "        -0.03066461, -0.08487135,  1.55153   ,  0.17877293,  0.26677784]],\n",
       "      dtype=float32)"
      ]
     },
     "execution_count": 14,
     "metadata": {},
     "output_type": "execute_result"
    }
   ],
   "source": [
    "predictions = model(x_train[:1]).numpy()\n",
    "predictions"
   ]
  },
  {
   "cell_type": "markdown",
   "metadata": {},
   "source": [
    "Para transformar esta previsão (*logists*) em uma distribuição de probabilidades, utilizamos a função [softmax](https://en.wikipedia.org/wiki/Softmax_function):"
   ]
  },
  {
   "cell_type": "code",
   "execution_count": 15,
   "metadata": {},
   "outputs": [
    {
     "data": {
      "text/plain": [
       "array([[0.02529123, 0.08540487, 0.20533255, 0.08520728, 0.07844891,\n",
       "        0.05539833, 0.0524753 , 0.2695473 , 0.06830526, 0.0745889 ]],\n",
       "      dtype=float32)"
      ]
     },
     "execution_count": 15,
     "metadata": {},
     "output_type": "execute_result"
    }
   ],
   "source": [
    "tf.nn.softmax(predictions).numpy()"
   ]
  },
  {
   "cell_type": "markdown",
   "metadata": {},
   "source": [
    "A função de entropia relativa também vem pronta do pacote keras, e neste caso calcularemos as perdas aplicando-a diretamente na saída de nosso modelo (*logits*), sem realizar a aplicação do *softmax*, que acontece internamente."
   ]
  },
  {
   "cell_type": "code",
   "execution_count": 16,
   "metadata": {},
   "outputs": [
    {
     "data": {
      "text/plain": [
       "2.893206"
      ]
     },
     "execution_count": 16,
     "metadata": {},
     "output_type": "execute_result"
    }
   ],
   "source": [
    "loss_fn = tf.keras.losses.SparseCategoricalCrossentropy(from_logits=True)\n",
    "loss_fn(y_train[:1], predictions).numpy()"
   ]
  },
  {
   "cell_type": "markdown",
   "metadata": {},
   "source": [
    "Então compilamos nosso modelo passando os parametros de treinamento desejados."
   ]
  },
  {
   "cell_type": "code",
   "execution_count": 17,
   "metadata": {},
   "outputs": [],
   "source": [
    "model.compile(optimizer='sgd', loss=loss_fn, metrics=['accuracy'])"
   ]
  },
  {
   "cell_type": "markdown",
   "metadata": {},
   "source": [
    "Isto é tudo. O codigo acima instancia e compila um *Multilayer Perceptron* simples. Utilizamos *Stochastic Gradient Descent* como algoritmo de otimização assim como anteriormente. Com o modelo já instanciado, vamos realizar seu treinamento."
   ]
  },
  {
   "cell_type": "code",
   "execution_count": 18,
   "metadata": {},
   "outputs": [
    {
     "name": "stdout",
     "output_type": "stream",
     "text": [
      "Epoch 1/10\n",
      "1563/1563 [==============================] - 2s 1ms/step - loss: 2.1924 - accuracy: 0.3174 - val_loss: 2.0252 - val_accuracy: 0.6139\n",
      "Epoch 2/10\n",
      "1563/1563 [==============================] - 2s 1ms/step - loss: 1.7112 - accuracy: 0.6329 - val_loss: 1.3146 - val_accuracy: 0.7672\n",
      "Epoch 3/10\n",
      "1563/1563 [==============================] - 2s 1ms/step - loss: 1.0740 - accuracy: 0.7541 - val_loss: 0.8387 - val_accuracy: 0.8157\n",
      "Epoch 4/10\n",
      "1563/1563 [==============================] - 2s 1ms/step - loss: 0.7651 - accuracy: 0.8104 - val_loss: 0.6328 - val_accuracy: 0.8465\n",
      "Epoch 5/10\n",
      "1563/1563 [==============================] - 2s 1ms/step - loss: 0.6174 - accuracy: 0.8391 - val_loss: 0.5266 - val_accuracy: 0.8662\n",
      "Epoch 6/10\n",
      "1563/1563 [==============================] - 2s 1ms/step - loss: 0.5325 - accuracy: 0.8588 - val_loss: 0.4630 - val_accuracy: 0.8810\n",
      "Epoch 7/10\n",
      "1563/1563 [==============================] - 2s 1ms/step - loss: 0.4782 - accuracy: 0.8712 - val_loss: 0.4216 - val_accuracy: 0.8875\n",
      "Epoch 8/10\n",
      "1563/1563 [==============================] - 2s 1ms/step - loss: 0.4413 - accuracy: 0.8799 - val_loss: 0.3934 - val_accuracy: 0.8926\n",
      "Epoch 9/10\n",
      "1563/1563 [==============================] - 2s 1ms/step - loss: 0.4146 - accuracy: 0.8853 - val_loss: 0.3726 - val_accuracy: 0.8968\n",
      "Epoch 10/10\n",
      "1563/1563 [==============================] - 2s 1ms/step - loss: 0.3951 - accuracy: 0.8889 - val_loss: 0.3571 - val_accuracy: 0.8984\n"
     ]
    }
   ],
   "source": [
    "train_history = model.fit(x_train, y_train, epochs=10, validation_data=(x_val, y_val))"
   ]
  },
  {
   "cell_type": "markdown",
   "metadata": {},
   "source": [
    "Para avaliar o desempenho do modelo no *dataset* de teste, utilizamos o método `evaluate`."
   ]
  },
  {
   "cell_type": "code",
   "execution_count": 19,
   "metadata": {},
   "outputs": [
    {
     "name": "stdout",
     "output_type": "stream",
     "text": [
      "313/313 - 0s - loss: 0.3675 - accuracy: 0.8959\n"
     ]
    }
   ],
   "source": [
    "model.evaluate(x_test,  y_test, verbose=2);"
   ]
  },
  {
   "cell_type": "markdown",
   "metadata": {},
   "source": [
    "O método *fit* realiza todo o trabalho de propagar os gradientes e atualizar os pesos do modelo para nós. Como parametros deste método, são especificados o tamanho da amostra, o número de épocas de treinamento e os dados de validação a serem utilizados. Este método retorna um objeto história de treinamento onde ficam gravados os dados de treinamento para análise posterior.\n",
    "\n",
    "O código abaixo utiliza este objeto para plotar os dados de erro e precisão do treinamento"
   ]
  },
  {
   "cell_type": "code",
   "execution_count": 20,
   "metadata": {},
   "outputs": [
    {
     "name": "stdout",
     "output_type": "stream",
     "text": [
      "Precisão na última época de treino:  0.8889200091362\n",
      "Erro médio na última época de treino:  0.3950609266757965\n",
      "Precisão na última época de validação:  0.8984000086784363\n",
      "Erro médio na última época de validação:  0.35705575346946716\n"
     ]
    },
    {
     "data": {
      "image/png": "[encoded data removed]",
      "text/plain": [
       "<Figure size 1080x576 with 1 Axes>"
      ]
     },
     "metadata": {
      "needs_background": "light"
     },
     "output_type": "display_data"
    }
   ],
   "source": [
    "plt.figure(figsize=(15,8))\n",
    "plt.title(\"Erro / Precisão x Epoca de treinamento\")\n",
    "plt.plot([err for err in train_history.history['loss']], label='Erro');\n",
    "plt.plot([accu for accu in train_history.history['accuracy']], label='Precisão');\n",
    "plt.plot([err for err in train_history.history['val_loss']], label='Erro Validação');\n",
    "plt.plot([accu for accu in train_history.history['val_accuracy']], label='Precisão Validação');\n",
    "plt.legend();\n",
    "plt.grid();\n",
    "\n",
    "print(\"Precisão na última época de treino: \", train_history.history['accuracy'][-1])\n",
    "print(\"Erro médio na última época de treino: \", train_history.history['loss'][-1])\n",
    "print(\"Precisão na última época de validação: \", train_history.history['val_accuracy'][-1])\n",
    "print(\"Erro médio na última época de validação: \", train_history.history['val_loss'][-1])"
   ]
  },
  {
   "cell_type": "markdown",
   "metadata": {},
   "source": [
    "Pode-se perceber que o Keras facilita muito a vida quando se trata de prototipar e testar grafos computacionais como redes neurais. Além disso, a implementação com *backend* em Tensorflow permite ao querar fazer uso da GPU como processador de matrizes, o que acelera o processamento em ordens de magnitude.\n",
    "\n",
    "Não entraremos em detalhes sobre implementações em tensorflow por se tratar de baixo nível e fora do escopo desde manual. Contudo, muito material esta disponível na internet, a começar pela [documentação](https://www.tensorflow.org/) do Tensorflow, e faremos a cobertura deste assunto em um manual futuro."
   ]
  },
  {
   "cell_type": "markdown",
   "metadata": {},
   "source": [
    "[Retornar para o sumário](./index.html)"
   ]
  }
 ],
 "metadata": {
  "kernelspec": {
   "display_name": "Python 3",
   "language": "python",
   "name": "python3"
  },
  "language_info": {
   "codemirror_mode": {
    "name": "ipython",
    "version": 3
   },
   "file_extension": ".py",
   "mimetype": "text/x-python",
   "name": "python",
   "nbconvert_exporter": "python",
   "pygments_lexer": "ipython3",
   "version": "3.8.2"
  }
 },
 "nbformat": 4,
 "nbformat_minor": 2
}
