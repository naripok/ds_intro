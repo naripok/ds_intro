{
 "cells": [
  {
   "cell_type": "markdown",
   "metadata": {},
   "source": [
    "# p-Hacking and Multiple Comparisons Bias\n",
    "  \n",
    "O viés de comparação múltipla é um problema recorrente em estatística, ciência de dados e previsões gerais. Em resumo, quanto mais testes você executar, maior a probabilidade de obter o resultado que deseja / espera. Se você ignorar a grande quantidade de testes que falharam, você está claramente  interpretando mal o que está contido em seus dados.\n",
    "\n",
    "Um exemplo particularmente comum disso é quando procuramos por correlações em grandes conjuntos de dados que incluam muitas séries ou variáveis independentes. Nesse caso, você executará um teste toda vez que avaliar se existe um correlação entre conjuntos de variáveis.\n",
    "\n",
    "\n",
    "## Estatística apenas ilumina esta questão\n",
    "\n",
    "A maioria das pessoas também é vítima de viés de comparações múltiplas na vida real. Toda vez que você toma uma decisão, você está efetivamente tomando uma ação baseada em uma hipótese. Essa hipótese é frequentemente testada. Você pode acabar não fazendo muitos testes em sua vida diária.\n",
    "\n",
    "Um exemplo pode ser decidir qual remédio está ajudando a curar um resfriado. Muitas pessoas tomam vários medicamentos ao mesmo tempo para tentar se livrar dos sintomas. Você pode pensar que um certo remédio funcionou, quando na realidade nenhum o fez e a gripe apenas começou a melhorar em algum momento.\n",
    "\n",
    "O ponto aqui é que esse problema não se origina de testes estatísticos e valores p. Em vez disso, essas técnicas nos dão muito mais informações sobre o problema e quando ele pode estar ocorrendo."
   ]
  },
  {
   "cell_type": "code",
   "execution_count": 1,
   "metadata": {},
   "outputs": [],
   "source": [
    "import numpy as np\n",
    "import pandas as pd\n",
    "import scipy.stats as stats\n",
    "import matplotlib.pyplot as plt"
   ]
  },
  {
   "cell_type": "markdown",
   "metadata": {},
   "source": [
    "## Correlação de Spearman\n",
    "\n",
    "É um tipo de correlação que leva em conta as classificações dos dados. Isso pode ajudar com distribuições estranhas ou *outliers* que confundiriam outras medidas. O teste também retorna um valor p, que é a chave aqui.\n",
    "\n",
    "Um coeficiênte alto aqui indica forte correlação."
   ]
  },
  {
   "cell_type": "code",
   "execution_count": 2,
   "metadata": {},
   "outputs": [
    {
     "name": "stdout",
     "output_type": "stream",
     "text": [
      "Spearman Rank:  0.9999999999999999\n",
      "Valor p:  0.0\n"
     ]
    }
   ],
   "source": [
    "X = pd.Series(np.random.normal(0, 1, 100))\n",
    "Y = X\n",
    "\n",
    "r_s = stats.spearmanr(Y, X)\n",
    "print ('Spearman Rank: ', r_s[0])\n",
    "print ('Valor p: ', r_s[1])"
   ]
  },
  {
   "cell_type": "markdown",
   "metadata": {},
   "source": [
    "Se introduzirmos ruído, a correlação decairá."
   ]
  },
  {
   "cell_type": "code",
   "execution_count": 3,
   "metadata": {},
   "outputs": [
    {
     "name": "stdout",
     "output_type": "stream",
     "text": [
      "Spearman Rank:  0.6962256225622562\n",
      "Valor p:  8.864820265777065e-16\n"
     ]
    }
   ],
   "source": [
    "X = pd.Series(np.random.normal(0, 1, 100))\n",
    "Y = X + np.random.normal(0, 1, 100)\n",
    "\n",
    "r_s = stats.spearmanr(Y, X)\n",
    "print('Spearman Rank: ', r_s[0])\n",
    "print('Valor p: ', r_s[1])"
   ]
  },
  {
   "cell_type": "markdown",
   "metadata": {},
   "source": [
    "### Valor p\n",
    "\n",
    "Para mais informações sobre valores-p, consulte [teste de hipótese](./hypothesis.html). O que é importante lembrar é que eles são usados para testar uma hipótese, dado um conjunto de dados. Aqui estamos testando a hipótese de que existe uma relação entre duas séries, dados os valores da série.\n",
    "\n",
    "#### IMPORTANTE: os valores p devem ser tratados como binários.\n",
    "\n",
    "Um erro comum é que valores de p são tratados como mais ou menos significativos. Esta é uma prática ruim, pois permite o que é conhecido como [p-hacking](https://en.wikipedia.org/wiki/Data_dredging) e resultará em mais falsos positivos do que o esperado. Efetivamente, é muito provável que você se convença de que existem correlação em seus dados.\n",
    "\n",
    "Para tratar valores de p como binários, um corte deve ser definido antecipadamente. Em seguida, o valor p deve ser comparado com o ponto de corte e tratado como significativo / não significativo. Aqui vamos mostrar isso.\n",
    "\n",
    "### O ponto de corte é o nível de significância\n",
    "\n",
    "Podemos nos referir ao ponto de corte como nosso nível de significância, porque um ponto de corte mais baixo significa que os resultados que o ultrapassam são significativos em um nível mais alto de confiança. Portanto, se você tiver um ponto de corte de 0,05, então, mesmo em dados aleatórios, 5% dos testes serão aprovados com base no acaso. Um corte de 0,01 reduz isso para 1%, o que é um teste mais rigoroso. Podemos, portanto, ter mais confiança em nossos resultados."
   ]
  },
  {
   "cell_type": "code",
   "execution_count": 4,
   "metadata": {},
   "outputs": [
    {
     "name": "stdout",
     "output_type": "stream",
     "text": [
      "Spearman Rank:  0.6631863186318632\n",
      "Existe evidencia significativa de correlação.\n"
     ]
    }
   ],
   "source": [
    "# Definir um ponto de corte de 5% significa que existe uma chance de 5%\n",
    "# de nós obtendo um valor p significativo sem relação\n",
    "# dentro de nossos dados (falso positivo).\n",
    "# NOTA: Isto só é verdade se as suposições do teste tiverem sido\n",
    "# satisfeito e o teste é, portanto, adequadamente calibrado.\n",
    "# Cada teste têm diferente conjunto de suposições.\n",
    "\n",
    "cutoff = 0.05\n",
    "\n",
    "X = pd.Series(np.random.normal(0, 1, 100))\n",
    "Y = X + np.random.normal(0, 1, 100)\n",
    "\n",
    "r_s = stats.spearmanr(Y, X)\n",
    "print('Spearman Rank: ', r_s[0])\n",
    "if r_s[1] < cutoff:\n",
    "    print('Existe evidencia significativa de correlação.')\n",
    "else:\n",
    "    print('Não existe evidencia significativa de correlação.')"
   ]
  },
  {
   "cell_type": "markdown",
   "metadata": {},
   "source": [
    "## Experimento - Rodando multiplos testes\n",
    "\n",
    "Começamos adquirindo dados."
   ]
  },
  {
   "cell_type": "code",
   "execution_count": 5,
   "metadata": {},
   "outputs": [
    {
     "data": {
      "text/html": [
       "<div>\n",
       "<style scoped>\n",
       "    .dataframe tbody tr th:only-of-type {\n",
       "        vertical-align: middle;\n",
       "    }\n",
       "\n",
       "    .dataframe tbody tr th {\n",
       "        vertical-align: top;\n",
       "    }\n",
       "\n",
       "    .dataframe thead th {\n",
       "        text-align: right;\n",
       "    }\n",
       "</style>\n",
       "<table border=\"1\" class=\"dataframe\">\n",
       "  <thead>\n",
       "    <tr style=\"text-align: right;\">\n",
       "      <th></th>\n",
       "      <th>X0</th>\n",
       "      <th>X1</th>\n",
       "      <th>X2</th>\n",
       "      <th>X3</th>\n",
       "      <th>X4</th>\n",
       "      <th>X5</th>\n",
       "      <th>X6</th>\n",
       "      <th>X7</th>\n",
       "      <th>X8</th>\n",
       "      <th>X9</th>\n",
       "      <th>X10</th>\n",
       "      <th>X11</th>\n",
       "      <th>X12</th>\n",
       "      <th>X13</th>\n",
       "      <th>X14</th>\n",
       "      <th>X15</th>\n",
       "      <th>X16</th>\n",
       "      <th>X17</th>\n",
       "      <th>X18</th>\n",
       "      <th>X19</th>\n",
       "    </tr>\n",
       "  </thead>\n",
       "  <tbody>\n",
       "    <tr>\n",
       "      <th>0</th>\n",
       "      <td>0.919656</td>\n",
       "      <td>0.618574</td>\n",
       "      <td>-2.016090</td>\n",
       "      <td>1.365646</td>\n",
       "      <td>1.172865</td>\n",
       "      <td>0.461947</td>\n",
       "      <td>0.933746</td>\n",
       "      <td>-0.237981</td>\n",
       "      <td>-0.250243</td>\n",
       "      <td>0.762753</td>\n",
       "      <td>0.674142</td>\n",
       "      <td>-2.618122</td>\n",
       "      <td>1.130101</td>\n",
       "      <td>-0.171369</td>\n",
       "      <td>1.221890</td>\n",
       "      <td>1.164980</td>\n",
       "      <td>1.229835</td>\n",
       "      <td>1.098138</td>\n",
       "      <td>0.342466</td>\n",
       "      <td>-0.151045</td>\n",
       "    </tr>\n",
       "    <tr>\n",
       "      <th>1</th>\n",
       "      <td>0.040085</td>\n",
       "      <td>0.523542</td>\n",
       "      <td>0.301910</td>\n",
       "      <td>-0.545310</td>\n",
       "      <td>1.279412</td>\n",
       "      <td>2.383235</td>\n",
       "      <td>-1.016056</td>\n",
       "      <td>-0.286878</td>\n",
       "      <td>0.709847</td>\n",
       "      <td>-0.245676</td>\n",
       "      <td>0.154383</td>\n",
       "      <td>0.954974</td>\n",
       "      <td>-0.333353</td>\n",
       "      <td>-1.016812</td>\n",
       "      <td>0.842187</td>\n",
       "      <td>-0.273670</td>\n",
       "      <td>-1.536830</td>\n",
       "      <td>0.398088</td>\n",
       "      <td>-0.095892</td>\n",
       "      <td>0.171379</td>\n",
       "    </tr>\n",
       "    <tr>\n",
       "      <th>2</th>\n",
       "      <td>-0.656974</td>\n",
       "      <td>2.155692</td>\n",
       "      <td>-0.066025</td>\n",
       "      <td>0.121197</td>\n",
       "      <td>0.483507</td>\n",
       "      <td>0.571832</td>\n",
       "      <td>1.198371</td>\n",
       "      <td>0.517302</td>\n",
       "      <td>0.600554</td>\n",
       "      <td>-0.894002</td>\n",
       "      <td>1.805396</td>\n",
       "      <td>-1.702585</td>\n",
       "      <td>0.616939</td>\n",
       "      <td>0.763753</td>\n",
       "      <td>0.001520</td>\n",
       "      <td>-0.294076</td>\n",
       "      <td>0.106268</td>\n",
       "      <td>-0.180632</td>\n",
       "      <td>-0.281973</td>\n",
       "      <td>-0.038497</td>\n",
       "    </tr>\n",
       "    <tr>\n",
       "      <th>3</th>\n",
       "      <td>-1.798334</td>\n",
       "      <td>0.821531</td>\n",
       "      <td>-1.190598</td>\n",
       "      <td>-0.496609</td>\n",
       "      <td>-0.108672</td>\n",
       "      <td>-0.059764</td>\n",
       "      <td>-1.505793</td>\n",
       "      <td>0.562082</td>\n",
       "      <td>-0.227269</td>\n",
       "      <td>0.753137</td>\n",
       "      <td>-1.217566</td>\n",
       "      <td>0.475135</td>\n",
       "      <td>0.061895</td>\n",
       "      <td>-0.356799</td>\n",
       "      <td>1.054110</td>\n",
       "      <td>-1.238180</td>\n",
       "      <td>-1.733528</td>\n",
       "      <td>0.188321</td>\n",
       "      <td>-0.073929</td>\n",
       "      <td>-0.538935</td>\n",
       "    </tr>\n",
       "    <tr>\n",
       "      <th>4</th>\n",
       "      <td>0.025970</td>\n",
       "      <td>-0.300002</td>\n",
       "      <td>-1.419013</td>\n",
       "      <td>0.867867</td>\n",
       "      <td>0.556521</td>\n",
       "      <td>-0.500217</td>\n",
       "      <td>-0.183459</td>\n",
       "      <td>0.670637</td>\n",
       "      <td>-0.252725</td>\n",
       "      <td>-0.170319</td>\n",
       "      <td>0.051262</td>\n",
       "      <td>1.619905</td>\n",
       "      <td>-0.960256</td>\n",
       "      <td>1.343738</td>\n",
       "      <td>0.940219</td>\n",
       "      <td>-0.932027</td>\n",
       "      <td>2.479141</td>\n",
       "      <td>0.443006</td>\n",
       "      <td>-2.292660</td>\n",
       "      <td>2.120711</td>\n",
       "    </tr>\n",
       "  </tbody>\n",
       "</table>\n",
       "</div>"
      ],
      "text/plain": [
       "         X0        X1        X2        X3        X4        X5        X6  \\\n",
       "0  0.919656  0.618574 -2.016090  1.365646  1.172865  0.461947  0.933746   \n",
       "1  0.040085  0.523542  0.301910 -0.545310  1.279412  2.383235 -1.016056   \n",
       "2 -0.656974  2.155692 -0.066025  0.121197  0.483507  0.571832  1.198371   \n",
       "3 -1.798334  0.821531 -1.190598 -0.496609 -0.108672 -0.059764 -1.505793   \n",
       "4  0.025970 -0.300002 -1.419013  0.867867  0.556521 -0.500217 -0.183459   \n",
       "\n",
       "         X7        X8        X9       X10       X11       X12       X13  \\\n",
       "0 -0.237981 -0.250243  0.762753  0.674142 -2.618122  1.130101 -0.171369   \n",
       "1 -0.286878  0.709847 -0.245676  0.154383  0.954974 -0.333353 -1.016812   \n",
       "2  0.517302  0.600554 -0.894002  1.805396 -1.702585  0.616939  0.763753   \n",
       "3  0.562082 -0.227269  0.753137 -1.217566  0.475135  0.061895 -0.356799   \n",
       "4  0.670637 -0.252725 -0.170319  0.051262  1.619905 -0.960256  1.343738   \n",
       "\n",
       "        X14       X15       X16       X17       X18       X19  \n",
       "0  1.221890  1.164980  1.229835  1.098138  0.342466 -0.151045  \n",
       "1  0.842187 -0.273670 -1.536830  0.398088 -0.095892  0.171379  \n",
       "2  0.001520 -0.294076  0.106268 -0.180632 -0.281973 -0.038497  \n",
       "3  1.054110 -1.238180 -1.733528  0.188321 -0.073929 -0.538935  \n",
       "4  0.940219 -0.932027  2.479141  0.443006 -2.292660  2.120711  "
      ]
     },
     "execution_count": 5,
     "metadata": {},
     "output_type": "execute_result"
    }
   ],
   "source": [
    "df = pd.DataFrame()\n",
    "\n",
    "N = 20\n",
    "T = 100\n",
    "\n",
    "for i in range(N):\n",
    "    X = np.random.normal(0, 1, T)\n",
    "    X = pd.Series(X)\n",
    "    name = 'X%s' % i\n",
    "    df[name] = X\n",
    "    \n",
    "df.head()"
   ]
  },
  {
   "cell_type": "markdown",
   "metadata": {},
   "source": [
    "Agora aplicamos testes em todos os pares possíveis em nossos dados procurando por casos onde o valor p é menor do que nosso ponto de corte definido de 5%."
   ]
  },
  {
   "cell_type": "code",
   "execution_count": 6,
   "metadata": {},
   "outputs": [],
   "source": [
    "cutoff = 0.05\n",
    "\n",
    "significant_pairs = []\n",
    "\n",
    "for i in range(N):\n",
    "    for j in range(i+1, N):\n",
    "        Xi = df.iloc[:, i]\n",
    "        Xj = df.iloc[:, j]\n",
    "        \n",
    "        results = stats.spearmanr(Xi, Xj)\n",
    "        \n",
    "        pvalue = results[1]\n",
    "        \n",
    "        if pvalue < cutoff:\n",
    "            significant_pairs.append((i, j))"
   ]
  },
  {
   "cell_type": "markdown",
   "metadata": {},
   "source": [
    "Antes de verificarmos quantos resultados significativos obtivemos, vamos fazer algumas contas para verificar quantos esperar. A fórmula para o número de pares dados na série N é\n",
    "\n",
    "$$\\frac{N(N-1)}{2}$$\n",
    "\n",
    "Não há relacionamentos em nossos dados, pois todos são gerados aleatoriamente. Se o nosso teste estiver calibrado corretamente, devemos esperar uma taxa de falsos positivos de 5%, dado o nosso corte de 5%. Portanto, devemos esperar o seguinte número de pares que alcançaram significância com base na chance aleatória pura."
   ]
  },
  {
   "cell_type": "code",
   "execution_count": 7,
   "metadata": {},
   "outputs": [
    {
     "data": {
      "text/plain": [
       "9.5"
      ]
     },
     "execution_count": 7,
     "metadata": {},
     "output_type": "execute_result"
    }
   ],
   "source": [
    "(N * (N-1) / 2) * 0.05"
   ]
  },
  {
   "cell_type": "markdown",
   "metadata": {},
   "source": [
    "Agora, comparemos com o número de positivos obtidos."
   ]
  },
  {
   "cell_type": "code",
   "execution_count": 8,
   "metadata": {},
   "outputs": [
    {
     "data": {
      "text/plain": [
       "9"
      ]
     },
     "execution_count": 8,
     "metadata": {},
     "output_type": "execute_result"
    }
   ],
   "source": [
    "len(significant_pairs)"
   ]
  },
  {
   "cell_type": "markdown",
   "metadata": {},
   "source": [
    "Não devemos esperar um número muito proximo do calculado aqui pois só rodamos um experimento. Se calcularmos esta correlação mais vezes, devemos notar convergência."
   ]
  },
  {
   "cell_type": "code",
   "execution_count": 9,
   "metadata": {},
   "outputs": [],
   "source": [
    "def do_experiment(N, T, cutoff=0.05):\n",
    "    df = pd.DataFrame()\n",
    "\n",
    "    # Make random data\n",
    "    for i in range(N):\n",
    "        X = np.random.normal(0, 1, T)\n",
    "        X = pd.Series(X)\n",
    "        name = 'X%s' % i\n",
    "        df[name] = X\n",
    "\n",
    "    significant_pairs = []\n",
    "\n",
    "    # Look for relationships\n",
    "    for i in range(N):\n",
    "        for j in range(i+1, N):\n",
    "            Xi = df.iloc[:, i]\n",
    "            Xj = df.iloc[:, j]\n",
    "\n",
    "            results = stats.spearmanr(Xi, Xj)\n",
    "\n",
    "            pvalue = results[1]\n",
    "\n",
    "            if pvalue < cutoff:\n",
    "                significant_pairs.append((i, j))\n",
    "    \n",
    "    return significant_pairs\n",
    "\n",
    "\n",
    "num_experiments = 100\n",
    "\n",
    "results = np.zeros((num_experiments,))\n",
    "\n",
    "for i in range(num_experiments):\n",
    "    # Run a single experiment\n",
    "    result = do_experiment(20, 100, cutoff=0.05)\n",
    "    \n",
    "    # Count how many pairs\n",
    "    n = len(result)\n",
    "    \n",
    "    # Add to array\n",
    "    results[i] = n"
   ]
  },
  {
   "cell_type": "markdown",
   "metadata": {},
   "source": [
    "A média sobre varios experimentos deve se aproximar do valor esperado."
   ]
  },
  {
   "cell_type": "code",
   "execution_count": 10,
   "metadata": {},
   "outputs": [
    {
     "data": {
      "text/plain": [
       "9.53"
      ]
     },
     "execution_count": 10,
     "metadata": {},
     "output_type": "execute_result"
    }
   ],
   "source": [
    "np.mean(results)"
   ]
  },
  {
   "cell_type": "markdown",
   "metadata": {},
   "source": [
    "## Visualizando o que está acontecendo\n",
    "\n",
    "O que está acontecendo aqui é que os valores p devem ser distribuídos uniformemente, caso não houver sinal nos dados. Basicamente, eles não carregam nenhuma informação e terão a mesma probabilidade de ser de 0,01 a 0,99. Como estes são amostrados aleatoriamente, você espera que uma determinada porcentagem de valores p esteja abaixo de qualquer limite que você escolher. Quanto menor o limite, menos serão aprovados no teste.\n",
    "\n",
    "Vamos visualizar isso fazendo uma função modificada que retorna valores p."
   ]
  },
  {
   "cell_type": "code",
   "execution_count": 11,
   "metadata": {},
   "outputs": [],
   "source": [
    "def get_pvalues_from_experiment(N, T):\n",
    "    df = pd.DataFrame()\n",
    "\n",
    "    # Make random data\n",
    "    for i in range(N):\n",
    "        X = np.random.normal(0, 1, T)\n",
    "        X = pd.Series(X)\n",
    "        name = 'X%s' % i\n",
    "        df[name] = X\n",
    "\n",
    "    pvalues = []\n",
    "\n",
    "    # Look for relationships\n",
    "    for i in range(N):\n",
    "        for j in range(i+1, N):\n",
    "            Xi = df.iloc[:, i]\n",
    "            Xj = df.iloc[:, j]\n",
    "\n",
    "            results = stats.spearmanr(Xi, Xj)\n",
    "\n",
    "            pvalue = results[1]\n",
    "\n",
    "            pvalues.append(pvalue)\n",
    "    \n",
    "    return pvalues"
   ]
  },
  {
   "cell_type": "markdown",
   "metadata": {},
   "source": [
    "Agora amostramos alguns valores p. Devemos amostrar numero suficiênte de valores para que a distribuição obtida seja estimada de maneira satisfatória, caso contrario obteremos dados muito ruidosos, como no exzemplo:"
   ]
  },
  {
   "cell_type": "code",
   "execution_count": 12,
   "metadata": {},
   "outputs": [
    {
     "data": {
      "image/png": "[encoded data removed]",
      "text/plain": [
       "<Figure size 1008x432 with 1 Axes>"
      ]
     },
     "metadata": {
      "needs_background": "light"
     },
     "output_type": "display_data"
    }
   ],
   "source": [
    "pvalues = get_pvalues_from_experiment(10, 100)\n",
    "plt.figure(figsize=(14,6))\n",
    "plt.grid(linestyle='--')\n",
    "plt.hist(pvalues)\n",
    "plt.ylabel('Frequencia')\n",
    "plt.title('Valores-p observados');"
   ]
  },
  {
   "cell_type": "markdown",
   "metadata": {},
   "source": [
    "Vamos aumentar o numero de amostrar `N` para obter uma estimativa mais precisa de nossa distribuição. Tenha em mente que os valores-p vão aumentar a uma taxa de\n",
    "\n",
    "$$\\frac{N (N-1)}{2}$$\n",
    "\n",
    "ou de forma aproximadamente quadrática."
   ]
  },
  {
   "cell_type": "code",
   "execution_count": 13,
   "metadata": {},
   "outputs": [
    {
     "data": {
      "image/png": "[encoded data removed]",
      "text/plain": [
       "<Figure size 1008x432 with 1 Axes>"
      ]
     },
     "metadata": {
      "needs_background": "light"
     },
     "output_type": "display_data"
    }
   ],
   "source": [
    "pvalues = get_pvalues_from_experiment(50, 100)\n",
    "plt.figure(figsize=(14,6))\n",
    "plt.grid(linestyle='--')\n",
    "plt.hist(pvalues)\n",
    "plt.ylabel('Frequencia')\n",
    "plt.title('Valores-p observados');"
   ]
  },
  {
   "cell_type": "markdown",
   "metadata": {},
   "source": [
    "A distribuição começa a aparentar uniforme, como esperado. Por último, vamos visualizar o processo de definição do ponto de corte:"
   ]
  },
  {
   "cell_type": "code",
   "execution_count": 14,
   "metadata": {},
   "outputs": [
    {
     "data": {
      "image/png": "[encoded data removed]",
      "text/plain": [
       "<Figure size 1008x432 with 1 Axes>"
      ]
     },
     "metadata": {
      "needs_background": "light"
     },
     "output_type": "display_data"
    }
   ],
   "source": [
    "pvalues = get_pvalues_from_experiment(50, 100)\n",
    "plt.figure(figsize=(14,6))\n",
    "plt.grid(linestyle='--')\n",
    "plt.vlines(0.01, 0, 150, colors='r', linestyle='--', label='Corte de 0.01')\n",
    "plt.vlines(0.05, 0, 150, colors='r', label='Corte de 0.05')\n",
    "plt.hist(pvalues, label='Distribuição de valores-p')\n",
    "plt.legend()\n",
    "plt.ylabel('Frequencia')\n",
    "plt.title('Valores-p observados');"
   ]
  },
  {
   "cell_type": "markdown",
   "metadata": {},
   "source": [
    "Podemos observar que com um valor de corte menor, devemos esperar menos ocorrências de falso positivo. Vamos conferir isso em nosso experimento prévio."
   ]
  },
  {
   "cell_type": "code",
   "execution_count": 15,
   "metadata": {},
   "outputs": [
    {
     "data": {
      "text/plain": [
       "1.85"
      ]
     },
     "execution_count": 15,
     "metadata": {},
     "output_type": "execute_result"
    }
   ],
   "source": [
    "num_experiments = 100\n",
    "\n",
    "results = np.zeros((num_experiments,))\n",
    "\n",
    "for i in range(num_experiments):\n",
    "    # Run a single experiment\n",
    "    result = do_experiment(20, 100, cutoff=0.01)\n",
    "    \n",
    "    # Count how many pairs\n",
    "    n = len(result)\n",
    "    \n",
    "    # Add to array\n",
    "    results[i] = n\n",
    "\n",
    "np.mean(results)"
   ]
  },
  {
   "cell_type": "markdown",
   "metadata": {},
   "source": [
    "E finalmente, comparar com o o esperado:"
   ]
  },
  {
   "cell_type": "code",
   "execution_count": 16,
   "metadata": {},
   "outputs": [
    {
     "data": {
      "text/plain": [
       "1.9000000000000001"
      ]
     },
     "execution_count": 16,
     "metadata": {},
     "output_type": "execute_result"
    }
   ],
   "source": [
    "(N * (N-1) / 2) * 0.01"
   ]
  },
  {
   "cell_type": "markdown",
   "metadata": {},
   "source": [
    "## Escolha entre sensibilidade / especificidade\n",
    "\n",
    "Como em qualquer ajuste do valor-p de corte, temos uma [escolha](\n",
    "https://en.wikipedia.org/wiki/Sensitivity_and_specificity). Um ponto de corte mais baixo diminui a taxa de falsos positivos, mas também diminui a chance de encontrarmos um relacionamento real (verdadeiro positivo). Então você não pode simplesmente diminuir seu corte para resolver este problema.\n",
    "\n",
    "## Reduzindo o viés de comparações múltiplas\n",
    "\n",
    "Não se pode eliminar realmente o viés de comparações múltiplas, porém podemos reduzir a chance de gerar resultados espúrios. Para fazer isso, temos duas opções.\n",
    "\n",
    "### Opção 1: execute menos testes.\n",
    "\n",
    "Esta é frequentemente a melhor opção. Ao invés de ficar esperando que acertar um sinal interessante por mágica, use seu conhecimento especializado para desenvolver uma hipótese e testá-la. Esse processo de explorar os dados, sugerindo uma hipótese, depois reunindo mais dados e testando a hipótese sobre os novos dados, é considerado o padrão-ouro na pesquisa estatística e científica. É crucial que o conjunto de dados no qual você desenvolve sua hipótese não seja aquele em que você a testa. Porque você encontrou o efeito enquanto explora, o teste provavelmente passará e não lhe dirá nada. O que você quer saber é quão consistente é o efeito. Mudar para novos dados e testes não só significará que você executa um teste novo, mas este pssará a se tratar de um estimador imparcial sobre se sua hipótese é verdadeira.\n",
    "\n",
    "### Opção 2: Fatores de Ajuste e Correção Bon Ferroni\n",
    "\n",
    "Se você precisar executar muitos testes, tente corrigir seus valores-p. Isso significa aplicar um fator de correção ao ponto de corte que você deseja obter, este será usado ao determinar se os valores p são significativos. O fator de correção mais conservador e comum é Bon Ferroni."
   ]
  },
  {
   "cell_type": "markdown",
   "metadata": {},
   "source": [
    "### Exemplo: correção de Bon Ferroni\n",
    "\n",
    "O conceito por trás de Bon Ferroni é bastante simples. Este diz que, se rodarmos $ m $ tests, e tivermos um nível de significância / corte de $ a $, então devemos usar $ a / m $ como nosso novo ponto de corte ao determinar a significância. A matemática funciona devido ao seguinte.\n",
    "\n",
    "Vamos dizer que rodemos $ m $ testes. Devemos esperar ver $ ma $ falsos positivos baseados no acaso. Se, ao invés disso, usarmos $ a / m $ como nosso ponto de corte, então devemos esperar que $ ma / m = a $ testes passam nosso ponto de corte. Portanto, estamos de volta à nossa taxa de falsos positivos de $ a $.\n",
    "\n",
    "Vamos testar o constatado acima."
   ]
  },
  {
   "cell_type": "code",
   "execution_count": 17,
   "metadata": {},
   "outputs": [
    {
     "data": {
      "text/plain": [
       "0.03"
      ]
     },
     "execution_count": 17,
     "metadata": {},
     "output_type": "execute_result"
    }
   ],
   "source": [
    "num_experiments = 100\n",
    "\n",
    "results = np.zeros((num_experiments,))\n",
    "\n",
    "N = 20\n",
    "\n",
    "T = 100\n",
    "\n",
    "desired_level = 0.05\n",
    "\n",
    "num_tests = N * (N - 1) / 2\n",
    "\n",
    "new_cutoff = desired_level / num_tests\n",
    "\n",
    "for i in range(num_experiments):\n",
    "    # Run a single experiment\n",
    "    result = do_experiment(20, 100, cutoff=new_cutoff)\n",
    "    \n",
    "    # Count how many pairs\n",
    "    n = len(result)\n",
    "    \n",
    "    # Add to array\n",
    "    results[i] = n\n",
    "    \n",
    "np.mean(results)"
   ]
  },
  {
   "cell_type": "markdown",
   "metadata": {},
   "source": [
    "Vemos que o número de testes positivos diminuiu bastante, o que é um bom sinal, já que os dados são aleatórios."
   ]
  },
  {
   "cell_type": "markdown",
   "metadata": {},
   "source": [
    "### Correção excessivamente conservadora\n",
    "\n",
    "Como Bon Ferroni é tão rigoroso, muitas vezes você acaba passando por correlações reais sem detecta-las. Há um bom exemplo no artigo a seguir\n",
    "\n",
    "https://en.wikipedia.org/wiki/Multiple_comparisons_problem\n",
    "\n",
    "Efetivamente, pressupõe-se que todos os testes que são executados são independentes e não levam em conta nenhuma estrutura em seus dados. Você pode projetar um fator de correção mais adequado, mas isso adicionanará complexidade e, portanto, maior chance de falha em sua pesquisa.\n",
    "\n",
    "Por causa do excesso de rigor de Bon Ferroni, muitas vezes executar menos testes é a melhor opção. Ou, se você precisar executar muitos testes, reserve vários conjuntos de dados para que seus dados relevantes possam passar por uma rodada de testes fora da amostra. Por exemplo, você pode utilizar o seguinte fluxo de trabalho:\n",
    "\n",
    " * Digamos que existem 100.000 correlações possíveis.\n",
    " * Faça um teste em cada correlação possível e escolha aquelas que passaram no teste.\n",
    " * Com esses candidatos, execute um teste em um novo conjunto de dados fora da amostra. Como você tem muitos candidatos a menos, agora é possível aplicar uma correção Bon Ferroni a esses valores-p ou, se necessário, repetir outra rodada de testes fora da amostra."
   ]
  },
  {
   "cell_type": "markdown",
   "metadata": {},
   "source": [
    "# O que é p-Hacking?\n",
    "\n",
    "O p-hacking é apenas um abuso intencional ou acidental de viés de múltiplas comparações. É surpreendentemente comum, mesmo na literatura acadêmica. O excelente site de notícias estatísticas FiveThirtyEight tem uma ótima visualização:\n",
    "\n",
    "https://fivethirtyeight.com/features/science-isnt-broken/\n",
    "\n",
    "O artigo da Wikipedia também é informativo:\n",
    "\n",
    "https://en.wikipedia.org/wiki/Data_dredging\n",
    "\n",
    "Em geral, o conceito é simples. Ao executar muitos testes ou experimentos e depois focar apenas naqueles que funcionaram, você pode apresentar falsos positivos como resultados reais. Tenha em mente que isso também se aplica à execução de muitos modelos diferentes ou diferentes tipos de experimentos e em diferentes conjuntos de dados. Imagine que você passe um verão pesquisando um novo modelo para prever os preços futuros do milho. Você tenta 50 modelos diferentes até que finalmente um tenha sucesso. Isso é apenas sorte neste momento? Certamente você desejaria ser mais cuidadoso ao validar esse modelo e testá-lo fora de amostra em novos dados antes de acreditar em sua eficácia."
   ]
  },
  {
   "cell_type": "markdown",
   "metadata": {},
   "source": [
    "[Retornar para o sumário](./index.html)"
   ]
  }
 ],
 "metadata": {
  "kernelspec": {
   "display_name": "Python 3",
   "language": "python",
   "name": "python3"
  },
  "language_info": {
   "codemirror_mode": {
    "name": "ipython",
    "version": 3
   },
   "file_extension": ".py",
   "mimetype": "text/x-python",
   "name": "python",
   "nbconvert_exporter": "python",
   "pygments_lexer": "ipython3",
   "version": "3.8.2"
  }
 },
 "nbformat": 4,
 "nbformat_minor": 2
}
