{
 "cells": [
  {
   "cell_type": "markdown",
   "metadata": {},
   "source": [
    "# Resultados da Má Especificação do Modelo\n",
    "\n",
    "No processo de aprendizado de modelos mais e mais poderosos, o praticante pode ver-se tentado a utilizar \"o maior modelo\" ou \"o algoritmo mais poderoso\" para solucionar a tarefa em mãos. O resultado disso pode ser a má especificação ou aplicação erronea de variáveis ou do modelo em si. Nesta sessão vamos falar sobre como a má especificação do modelo afeta o processo de treinamento e os possíveis resultados associados a este fenômeno.\n",
    "\n",
    "Especificação do modelo diz respeito a escolha das variáveis e estrutura que estarão presentes em nosso algoritmo.\n",
    "Dentre estes, devemos selecionar:\n",
    "\n",
    "- as variáveis dependentes;\n",
    "- as variáveis independentes;\n",
    "- a estrutura funcional do modelo.\n",
    "\n",
    "Por exemplo, imagine que definimos que nossa variável dependente é uma função linear de duas variáveis independentes. Se este modelo não estiver especificado corretamente, as premissas do modelo terão sido violadas e o modelo não será preciso. A seguir, faremos uma descrição dos principais casos de má especificação.\n",
    "\n",
    "Inicialmente, adquirimos nosso *dataset*. Neste exemplo usaremos uma série temporal de dados financeiros adquiridos do yahoo finance."
   ]
  },
  {
   "cell_type": "code",
   "execution_count": 1,
   "metadata": {
    "scrolled": true
   },
   "outputs": [
    {
     "data": {
      "text/html": [
       "<div>\n",
       "<style>\n",
       "    .dataframe thead tr:only-child th {\n",
       "        text-align: right;\n",
       "    }\n",
       "\n",
       "    .dataframe thead th {\n",
       "        text-align: left;\n",
       "    }\n",
       "\n",
       "    .dataframe tbody tr th {\n",
       "        vertical-align: top;\n",
       "    }\n",
       "</style>\n",
       "<table border=\"1\" class=\"dataframe\">\n",
       "  <thead>\n",
       "    <tr style=\"text-align: right;\">\n",
       "      <th></th>\n",
       "      <th>Open</th>\n",
       "      <th>High</th>\n",
       "      <th>Low</th>\n",
       "      <th>Close</th>\n",
       "      <th>Volume</th>\n",
       "    </tr>\n",
       "  </thead>\n",
       "  <tbody>\n",
       "    <tr>\n",
       "      <th>31-Aug-17</th>\n",
       "      <td>163.64</td>\n",
       "      <td>164.52</td>\n",
       "      <td>163.48</td>\n",
       "      <td>164.00</td>\n",
       "      <td>26785096</td>\n",
       "    </tr>\n",
       "    <tr>\n",
       "      <th>30-Aug-17</th>\n",
       "      <td>163.80</td>\n",
       "      <td>163.89</td>\n",
       "      <td>162.61</td>\n",
       "      <td>163.35</td>\n",
       "      <td>27269584</td>\n",
       "    </tr>\n",
       "    <tr>\n",
       "      <th>29-Aug-17</th>\n",
       "      <td>160.10</td>\n",
       "      <td>163.12</td>\n",
       "      <td>160.00</td>\n",
       "      <td>162.91</td>\n",
       "      <td>29516910</td>\n",
       "    </tr>\n",
       "    <tr>\n",
       "      <th>28-Aug-17</th>\n",
       "      <td>160.14</td>\n",
       "      <td>162.00</td>\n",
       "      <td>159.93</td>\n",
       "      <td>161.47</td>\n",
       "      <td>25965972</td>\n",
       "    </tr>\n",
       "    <tr>\n",
       "      <th>25-Aug-17</th>\n",
       "      <td>159.65</td>\n",
       "      <td>160.56</td>\n",
       "      <td>159.27</td>\n",
       "      <td>159.86</td>\n",
       "      <td>25480063</td>\n",
       "    </tr>\n",
       "  </tbody>\n",
       "</table>\n",
       "</div>"
      ],
      "text/plain": [
       "             Open    High     Low   Close    Volume\n",
       "31-Aug-17  163.64  164.52  163.48  164.00  26785096\n",
       "30-Aug-17  163.80  163.89  162.61  163.35  27269584\n",
       "29-Aug-17  160.10  163.12  160.00  162.91  29516910\n",
       "28-Aug-17  160.14  162.00  159.93  161.47  25965972\n",
       "25-Aug-17  159.65  160.56  159.27  159.86  25480063"
      ]
     },
     "execution_count": 1,
     "metadata": {},
     "output_type": "execute_result"
    }
   ],
   "source": [
    "import csv\n",
    "import requests\n",
    "import pandas as pd\n",
    "\n",
    "CSV_URL = 'http://www.google.com/finance/historical?q=NASDAQ%3AAAPL&ei=8U81WeDCCYXAeNH0jOgB&output=csv'\n",
    "\n",
    "with requests.Session() as s:\n",
    "    download = s.get(CSV_URL)\n",
    "\n",
    "    decoded_content = download.content.decode('utf-8')\n",
    "\n",
    "    cr = csv.reader(decoded_content.splitlines(), delimiter=',')\n",
    "    my_list = list(cr)\n",
    "    \n",
    "    aapl_df = pd.DataFrame(columns=my_list[0][1:], index=[my_list[i][0] for i in range(1,len(my_list))])\n",
    "\n",
    "    for i, col in enumerate(my_list[0][1:]):\n",
    "        aapl_df[col] = [l[i+1] for l in my_list][1:]\n",
    "\n",
    "aapl_df.head()"
   ]
  },
  {
   "cell_type": "markdown",
   "metadata": {},
   "source": [
    "# Análise de Resíduos\n",
    "\n",
    "No processo de análise de resultados de algoritmos de aprendizado de máquina, uma grande fonte de informações é contida nos resíduos do modelo. Resíduos são as diferenças entre os resultados esperados e os resultados inferidos do modelo. Uma análise minuciosa aqui pode revelar processos de *overfiting* ou *underfiting* e quantificar a parcela da estrutura presente nos dados que foi capturada pelo modelo.\n",
    "    \n",
    "Para realizar a análise dos resíduos, fazemos uso de ferramentas estatísticas bem conhecidas.\n"
   ]
  },
  {
   "cell_type": "markdown",
   "metadata": {
    "collapsed": true
   },
   "source": [
    "## Regressão Linear\n",
    "A regressão linear é uma das técnicas de modelagem mais fundamentais. A utilizamo para estimar uma relação linear entre um conjunto de variáveis independentes $ X_i $ e uma variável de resultado dependente $ y $. Nosso modelo assume a forma de:\n",
    "$$ y_i = \\beta_{0} 1 + \\beta_{i, 1} x_{i, 1} + \\dots + \\beta_{i, p} x_{i, p} + \\epsilon_i = x_i'\\beta + \\epsilon_i $$\n",
    "\n",
    "Para $i \\in \\{1, \\dots, n \\}$, onde $ n $ é o número de observações. Escrevemos em forma vetorial como:\n",
    "\n",
    "$$ y = X\\beta + \\epsilon $$\n",
    "\n",
    "Onde $ y $ é um vector $ n \\times 1 $, $ X $ é uma matriz $ n \\times p $, $ \\beta $ é o vetor de coeficientes $ p \\times 1 $ e $ \\epsilon $ é um termo de erro amostrado de uma distribuição normal. Normalmente chamamos um modelo com $ p = 1 $ de regressão linear simples e um modelo com $ p> 1 $ de regressão linear múltipla.\n",
    "\n",
    "Sempre que construímos um modelo, haverá lacunas entre o que um modelo prediz e o que é observado na amostra. As diferenças entre esses valores são conhecidas como os resíduos do modelo e podem ser usadas para verificar algumas das premissas básicas que se inserem no modelo. Os principais pressupostos a serem verificados são:\n",
    "\n",
    "* ** Ajuste linear: ** A relação subjacente deve ser linear\n",
    "* ** Homoscedasticidade: ** Os dados não devem ter tendência na variância\n",
    "* ** Independente e Distribuído de forma idêntica: ** Os resíduos da regressão devem ser independentes e distribuídos de forma idêntica (i.i.d.) e não mostrar sinais de auto-correlação\n",
    "\n",
    "Podemos usar os resíduos para ajudar a diagnosticar se o relacionamento que estimamos é real ou espúrio.\n",
    "\n",
    "O erro estatístico é uma métrica similar associada à análise de regressão com uma diferença importante: enquanto os resíduos quantificam a diferença entre as previsões do modelo de regressão e a amostra observada, o erro estatístico é a diferença entre um modelo de regressão e o valor esperado não observável. Usamos resíduos em uma tentativa de estimar esse erro."
   ]
  },
  {
   "cell_type": "code",
   "execution_count": 2,
   "metadata": {},
   "outputs": [
    {
     "name": "stderr",
     "output_type": "stream",
     "text": [
      "/home/tau/Envs/tau/lib/python3.6/site-packages/statsmodels/compat/pandas.py:56: FutureWarning: The pandas.core.datetools module is deprecated and will be removed in a future version. Please use the pandas.tseries module instead.\n",
      "  from pandas.core import datetools\n"
     ]
    }
   ],
   "source": [
    "# Import libraries\n",
    "import numpy as np\n",
    "np.random.seed(1)\n",
    "from statsmodels import regression\n",
    "import statsmodels.api as sm\n",
    "import statsmodels.stats.diagnostic as smd\n",
    "import scipy.stats as stats\n",
    "import math\n",
    "\n",
    "import matplotlib.pyplot as plt\n",
    "%matplotlib inline"
   ]
  },
  {
   "cell_type": "markdown",
   "metadata": {},
   "source": [
    "# Regressão Linear Simples\n",
    "\n",
    "Para servir como modelo exemplo para nossa análise, vamos definir uma regressão linear simples."
   ]
  },
  {
   "cell_type": "code",
   "execution_count": 3,
   "metadata": {
    "collapsed": true
   },
   "outputs": [],
   "source": [
    "def linreg(X,Y):\n",
    "    # Running the linear regression\n",
    "    X = sm.add_constant(X)\n",
    "    model = sm.OLS(Y, X).fit()\n",
    "    B0 = model.params[0]\n",
    "    B1 = model.params[1]\n",
    "    X = X[:, 1]\n",
    "\n",
    "    # Return summary of the regression and plot results\n",
    "    X2 = np.linspace(X.min(), X.max(), 100)\n",
    "    Y_hat = X2 * B1 + B0\n",
    "\n",
    "    plt.scatter(X, Y, alpha=1) # Plot the raw data\n",
    "    plt.plot(X2, Y_hat, 'r', alpha=1);  # Add the regression line, colored in red\n",
    "    plt.xlabel('X Value')\n",
    "    plt.ylabel('Y Value')\n",
    "    plt.grid()\n",
    "    return model, B0, B1"
   ]
  },
  {
   "cell_type": "markdown",
   "metadata": {},
   "source": [
    "Vamos definir como exemplo uma relação entre $X$ e $Y$ que pode ser modelado com uma regressão linear. Definimos a relação e construimos um modelo em cima desta, plotando a linha de melhor ajuste dados os parametros da regressão. "
   ]
  },
  {
   "cell_type": "code",
   "execution_count": 4,
   "metadata": {
    "scrolled": false
   },
   "outputs": [
    {
     "name": "stdout",
     "output_type": "stream",
     "text": [
      "Linha de melhor ajuste: Y = 10.020277447612642 + 0.501451775047745*X\n"
     ]
    },
    {
     "data": {
      "image/png": "[encoded data removed]",
      "text/plain": [
       "<matplotlib.figure.Figure at 0x7f12673f0dd8>"
      ]
     },
     "metadata": {},
     "output_type": "display_data"
    }
   ],
   "source": [
    "n = 50\n",
    "X = np.random.randint(0, 100, n)\n",
    "epsilon = np.random.normal(0, 1, n)\n",
    "\n",
    "Y = 10 + 0.5 * X + epsilon\n",
    "\n",
    "plt.figure(figsize=(14,6))\n",
    "linreg(X,Y)[0];\n",
    "print(\"Linha de melhor ajuste: Y = {0} + {1}*X\".format(linreg(X, Y)[1], linreg(X, Y)[2]))"
   ]
  },
  {
   "cell_type": "markdown",
   "metadata": {},
   "source": [
    "Este exemplo inclui algum ruído nos dados, assim como qualquer conjunto dados reais. Isso é inerente à amostragem de qualquer tipo de processo de geração de dados. Como resultado, nossa linha de melhor ajuste nunca cruzará exatamente os dados. Ter um modelo que se encaixa em cada observação que você tenha é um sinal claro de *overfitting*.\n",
    "\n",
    "Para todos os modelos ajustado, haverá uma diferença entre o que o modelo de regressão prevê e o que foi observado, e é ai que se encaixam os resíduos."
   ]
  },
  {
   "cell_type": "markdown",
   "metadata": {},
   "source": [
    "## Residuais\n",
    "\n",
    "A definição de um residual é a diferença entre o que é observado na amostra e o que é previsto pela regressão. Para qualquer residual $ r_i $, expressamos como:\n",
    "\n",
    "$$ r_i = Y_i - \\hat {Y_i} $$\n",
    "\n",
    "Onde $ Y_i $ é o valor observado de $ Y $ e $ \\hat {Y} _i $ é o valor previsto. Traçamos essas diferenças no seguinte gráfico:"
   ]
  },
  {
   "cell_type": "code",
   "execution_count": 5,
   "metadata": {},
   "outputs": [
    {
     "data": {
      "image/png": "[encoded data removed]",
      "text/plain": [
       "<matplotlib.figure.Figure at 0x7f12673f0860>"
      ]
     },
     "metadata": {},
     "output_type": "display_data"
    }
   ],
   "source": [
    "plt.figure(figsize=(14,6))\n",
    "model, B0, B1 = linreg(X,Y)\n",
    "residuals = model.resid\n",
    "plt.errorbar(X,Y,xerr=0,yerr=[residuals,0*residuals],linestyle=\"None\",color='Green');"
   ]
  },
  {
   "cell_type": "markdown",
   "metadata": {},
   "source": [
    "Podemos extrair os resíduos diretamente do modelo ajustado."
   ]
  },
  {
   "cell_type": "code",
   "execution_count": 6,
   "metadata": {},
   "outputs": [
    {
     "name": "stdout",
     "output_type": "stream",
     "text": [
      "[-1.37885437 -0.41827378 -0.86843226 -0.4704652  -0.55561067  1.35387098\n",
      " -0.03659716 -0.48264853 -1.3167258   0.99325758 -1.61167206 -0.41045337\n",
      " -0.08581238 -0.84467693 -0.02515641 -1.08821887 -0.31008685  0.39602402\n",
      "  1.49201327  1.8957497   0.41582143  0.07874291 -0.95033141 -0.88094595\n",
      "  0.49272302 -0.09905582  2.95808935 -0.69210945  0.20045357 -0.46466457\n",
      " -2.2721148   1.72495709 -0.37593264  0.73745874  2.034516    0.42344969\n",
      "  0.96207978 -1.94247746 -1.00220918  0.1921916   1.01669935  1.2018657\n",
      "  1.20652458 -0.77970235  1.15626813 -0.79089501 -0.92252217 -0.02817839\n",
      "  0.39069293 -0.21862559]\n"
     ]
    }
   ],
   "source": [
    "residuals = model.resid\n",
    "print(residuals)"
   ]
  },
  {
   "cell_type": "markdown",
   "metadata": {},
   "source": [
    "# Diagnosticando Residuais\n",
    "\n",
    "Muitos dos pressupostos que são necessários para ter um modelo de regressão linear válido podem ser verificados identificando padrões nos resíduos desse modelo. Podemos fazer uma checagem visual, observando o plot dos residuais de um determinado modelo.\n",
    "\n",
    "Com um gráfico residual, observamos os valores previstos do modelo em relação aos próprios resíduos. O que queremos ver é apenas uma nuvem de pontos não relacionados, como por exemplo:"
   ]
  },
  {
   "cell_type": "code",
   "execution_count": 7,
   "metadata": {},
   "outputs": [
    {
     "data": {
      "image/png": "[encoded data removed]",
      "text/plain": [
       "<matplotlib.figure.Figure at 0x7f1263adc518>"
      ]
     },
     "metadata": {},
     "output_type": "display_data"
    }
   ],
   "source": [
    "plt.figure(figsize=(14,8))\n",
    "plt.scatter(model.predict(), residuals);\n",
    "plt.axhline(0, color='red')\n",
    "plt.xlabel('Predicted Values');\n",
    "plt.ylabel('Residuals');\n",
    "plt.xlim([1,50]);\n",
    "plt.grid()"
   ]
  },
  {
   "cell_type": "markdown",
   "metadata": {},
   "source": [
    "O que queremos é uma distribuição aleatória de resíduos. Os pontos não devem formar um padrão discernível. Isso indicaria que um modelo linear simples provavelmente seria um bom ajuste. Se vermos qualquer tipo de tendência, isso pode indicar a presença de autocorrelação ou heterocedasticidade no modelo."
   ]
  },
  {
   "cell_type": "markdown",
   "metadata": {},
   "source": [
    "## Adequação de um Modelo Linear\n",
    "\n",
    "Ao procurar padrões em residuais, podemos determinar se o modelo linear é apropriado ou não. Uma regressão linear simples não seria apropriada para uma relação subjacente da forma:\n",
    "\n",
    "$$ Y = \\beta_0 + \\beta_1 X ^ 2 $$\n",
    "\n",
    "Como uma função linear não seria capaz de explicar completamente a relação entre $ X $ e $ Y $.\n",
    "\n",
    "Se o relacionamento não é um bom ajuste para um modelo linear, o gráfico residual mostrará um padrão distinto. Em geral, um gráfico residual de uma regressão linear em uma relação não-linear mostrará viés e será assimétrico em relação ao exiso residual = 0 enquanto um gráfico residual de uma regressão linear em uma relação linear será geralmente simétrico sobre o eixo residual = 0.\n",
    "\n",
    "Como exemplo, consideremos uma nova relação entre as variáveis $ X $ e $ Y $ que incorpora um termo quadrático."
   ]
  },
  {
   "cell_type": "code",
   "execution_count": 8,
   "metadata": {},
   "outputs": [
    {
     "name": "stdout",
     "output_type": "stream",
     "text": [
      "beta_0:  16.7499782658\n",
      "beta_1:  -2.26012804597\n"
     ]
    },
    {
     "data": {
      "image/png": "[encoded data removed]",
      "text/plain": [
       "<matplotlib.figure.Figure at 0x7f1263a76ba8>"
      ]
     },
     "metadata": {},
     "output_type": "display_data"
    }
   ],
   "source": [
    "n = 50\n",
    "X = np.random.randint(0, 50, n)\n",
    "epsilon = np.random.normal(0, 1, n)\n",
    "Y_nonlinear = 10 - X**1.2 + epsilon\n",
    "\n",
    "model = sm.OLS(Y_nonlinear, sm.add_constant(X)).fit()\n",
    "B0, B1 = model.params\n",
    "residuals = model.resid\n",
    "\n",
    "print('beta_0: ', B0)\n",
    "print('beta_1: ', B1)\n",
    "plt.figure(figsize=(14,8))\n",
    "plt.scatter(model.predict(), residuals);\n",
    "plt.axhline(0, color='red')\n",
    "plt.xlabel('Predicted Values');\n",
    "plt.ylabel('Residuals');\n",
    "plt.grid()"
   ]
  },
  {
   "cell_type": "markdown",
   "metadata": {},
   "source": [
    "O formato de \"U invertido\" exibido pelos resíduos é um sinal de que um modelo não-linear pode ser um ajuste melhor do que o modelo linear."
   ]
  },
  {
   "cell_type": "markdown",
   "metadata": {},
   "source": [
    "## Heteroscedasticidade\n",
    "\n",
    "Um dos principais pressupostos por trás de uma regressão linear é que os dados subjacentes têm uma variância constante. Se houver parte dos dados com variância diferente do restante, os dados não são apropriados para uma regressão linear. ** Heteroscedasticidade ** é um termo que se refere a dados com variância não-constante, em oposição à homocedasticidade, quando os dados apresentam variação constante.\n",
    "\n",
    "A heteroscedasticidade significativa invalida os resultados da regressão linear ao adicionas viés ao erro padrão do modelo. Como resultado, não podemos confiar nos resultados de testes de significância e intervalos de confiança gerados a partir do modelo e seus parâmetros.\n",
    "\n",
    "Para evitar essas conseqüências, é importante usar os residuais para verificar a heteroscedasticidade e ajustar o modelo, se necessário.\n",
    "\n",
    "Como um exemplo de detecção e correção da heterocedasticidade, consideremos ainda outra relação entre $ X $ e $ Y $:"
   ]
  },
  {
   "cell_type": "code",
   "execution_count": 9,
   "metadata": {},
   "outputs": [
    {
     "data": {
      "image/png": "[encoded data removed]",
      "text/plain": [
       "<matplotlib.figure.Figure at 0x7f1263a99128>"
      ]
     },
     "metadata": {},
     "output_type": "display_data"
    }
   ],
   "source": [
    "n = 50\n",
    "X = np.random.randint(0, 100, n)\n",
    "epsilon = np.random.normal(0, 1, n)\n",
    "Y_heteroscedastic = 100 + 2*X + epsilon*X\n",
    "\n",
    "model = sm.OLS(Y_heteroscedastic, sm.add_constant(X)).fit()\n",
    "B0, B1 = model.params\n",
    "residuals = model.resid\n",
    "\n",
    "plt.figure(figsize=(14,8))\n",
    "plt.scatter(model.predict(), residuals);\n",
    "plt.axhline(0, color='red')\n",
    "plt.xlabel('Predicted Values');\n",
    "plt.ylabel('Residuals');\n",
    "plt.grid()"
   ]
  },
  {
   "cell_type": "markdown",
   "metadata": {},
   "source": [
    "Heteroscedasticidade muitas vezes se manifesta como esta propagação, dando-nos uma nuvem cónica em uma direção ou outra. À medida que avançamos no valor de $ x $, as magnitudes dos resíduos aumentam claramente. Uma regressão linear é incapaz de explicar essa variabilidade variável e os erros padrão de regressão serão tendenciosos.\n",
    "\n",
    "### Métodos estatísticos para detecção de heterocedasticidade\n",
    "\n",
    "Geralmente, queremos dar suporte a observações qualitativas sobre um gráfico residual com um método quantitativo. O plot residual nos levou a acreditar que os dados podem ser heterocedasticos. Vamos confirmar esse resultado com um teste estatístico.\n",
    "\n",
    "Uma maneira comum de testar a presença de heteroscedasticidade é o teste de hipótese Breusch-Pagan. É bom combinar a análise qualitativa de um gráfico residual com a análise quantitativa de pelo menos uma prova de hipótese. Nós também podemos adicionar o teste White, mas, por enquanto, usaremos apenas Breusch-Pagan para testar a correlação acima. Existe uma função no pacote `statsmodels` chamado `het_breushpagan` que simplifica a computação:"
   ]
  },
  {
   "cell_type": "code",
   "execution_count": 10,
   "metadata": {},
   "outputs": [
    {
     "name": "stdout",
     "output_type": "stream",
     "text": [
      "0.0242470186393\n",
      "A relaçao é heterocedastica.\n"
     ]
    }
   ],
   "source": [
    "breusch_pagan_p = smd.het_breuschpagan(model.resid, model.model.exog)[1]\n",
    "print(breusch_pagan_p)\n",
    "if breusch_pagan_p > 0.05:\n",
    "    print(\"A relação não é heterocedastica.\")\n",
    "if breusch_pagan_p < 0.05:\n",
    "    print(\"A relaçao é heterocedastica.\")"
   ]
  },
  {
   "cell_type": "markdown",
   "metadata": {},
   "source": [
    "Nós estabelecemos nosso nível de confiança em $ \\alpha = 0,05 $, então um valor p de Breguet-Pagan abaixo de $ 0,05 $ nos diz que a relação é heterocedastica. O uso de uma prova de hipótese traz risco de falso positivo ou falso negativo, razão pela qual pode ser bom confirmar este resultado com testes adicionais."
   ]
  },
  {
   "cell_type": "markdown",
   "metadata": {},
   "source": [
    "### Ajustando para Heteroscedasticidade\n",
    "\n",
    "Se, após criar um gráfico residual e realizar os testes, você acredita que os dados apresentam heteroscedasticidade, há uma série de métodos que podem ser usados para tentar melhorar o ajuste. Os três nos quais nos concentraremos são as análises de diferenças, as transformações de logs e as transformações de Box-Cox."
   ]
  },
  {
   "cell_type": "markdown",
   "metadata": {},
   "source": [
    "#### Análise de diferenças\n",
    "\n",
    "Uma análise de diferenças envolve a análise das diferenças de primeira ordem entre os valores adjacentes. Com isso, analisamos as mudanças de período para período de uma variável independente ao invés de olhar diretamente para seus valores. Muitas vezes, ao analisar as diferenças em vez dos valores brutos, podemos remover a heteroscedasticidade e assim utilizar o modelo apropriado."
   ]
  },
  {
   "cell_type": "code",
   "execution_count": 11,
   "metadata": {
    "collapsed": true
   },
   "outputs": [],
   "source": [
    "# Finding first-order differences in Y_heteroscedastic\n",
    "Y_heteroscedastic_diff = np.diff(Y_heteroscedastic)"
   ]
  },
  {
   "cell_type": "markdown",
   "metadata": {},
   "source": [
    "Agora que nós armazenamos as diferenças de primeira ordem de `Y_heteroscedastic` em `Y_heteroscedastic_diff`, repitimos a regressão e o gráfico residual para checar se a heterocedasticidade ainda está presente:"
   ]
  },
  {
   "cell_type": "code",
   "execution_count": 12,
   "metadata": {},
   "outputs": [
    {
     "data": {
      "image/png": "[encoded data removed]",
      "text/plain": [
       "<matplotlib.figure.Figure at 0x7f1263a992e8>"
      ]
     },
     "metadata": {},
     "output_type": "display_data"
    }
   ],
   "source": [
    "model = sm.OLS(Y_heteroscedastic_diff, sm.add_constant(X[1:])).fit()\n",
    "B0, B1 = model.params\n",
    "residuals = model.resid\n",
    "\n",
    "plt.figure(figsize=(14,8))\n",
    "plt.scatter(model.predict(), residuals);\n",
    "plt.axhline(0, color='red')\n",
    "plt.xlabel('Predicted Values');\n",
    "plt.ylabel('Residuals');\n",
    "plt.grid()"
   ]
  },
  {
   "cell_type": "code",
   "execution_count": 13,
   "metadata": {},
   "outputs": [
    {
     "name": "stdout",
     "output_type": "stream",
     "text": [
      "0.0513080777842\n",
      "A relação não é heterocedastica.\n"
     ]
    }
   ],
   "source": [
    "breusch_pagan_p = smd.het_breuschpagan(residuals, model.model.exog)[1]\n",
    "print(breusch_pagan_p)\n",
    "if breusch_pagan_p > 0.05:\n",
    "    print(\"A relação não é heterocedastica.\")\n",
    "if breusch_pagan_p < 0.05:\n",
    "    print(\"A relaçao é heterocedastica.\")"
   ]
  },
  {
   "cell_type": "markdown",
   "metadata": {},
   "source": [
    "Observe que esta nova regressão foi realizada sobre as diferenças entre os dados e, portanto, o resultado da regressão deve ser transformado novamente para retornar a predição para o espaço original. Uma vez que regredimos as diferenças, podemos adicionar nossa diferença prevista nos dados originais para obter nossa estimativa: *\n",
    "\n",
    "$$ \\hat {Y_i} = Y_{i-1} + \\hat {Y}_{diff} $$"
   ]
  },
  {
   "cell_type": "markdown",
   "metadata": {},
   "source": [
    "#### Transformação logarítmica\n",
    "\n",
    "Em seguida, aplicamos uma transformação logarítmica aos dados subjacentes. Uma transformação logarítmica irá aproximar os resíduos e, idealmente, remover a heteroscedasticidade. Em muitos casos (embora não todos), uma transformação logarítmica é suficiente para estabilizar a variância de uma relacão."
   ]
  },
  {
   "cell_type": "code",
   "execution_count": 14,
   "metadata": {
    "collapsed": true
   },
   "outputs": [],
   "source": [
    "# Taking the log of the previous data Y_heteroscedastic and saving it in Y_heteroscedastic_log\n",
    "Y_heteroscedastic_log = np.log(Y_heteroscedastic)"
   ]
  },
  {
   "cell_type": "markdown",
   "metadata": {},
   "source": [
    "Agora que armazenamos a versão transformada em log de `Y_heteroscedastic` em `Y_heteroscedastic_log`, repitimos a regressão e o gráfico residual para ver se a heteroscedasticidade ainda está presente:"
   ]
  },
  {
   "cell_type": "code",
   "execution_count": 15,
   "metadata": {},
   "outputs": [
    {
     "data": {
      "image/png": "[encoded data removed]",
      "text/plain": [
       "<matplotlib.figure.Figure at 0x7f1263ad7c88>"
      ]
     },
     "metadata": {},
     "output_type": "display_data"
    }
   ],
   "source": [
    "model = sm.OLS(Y_heteroscedastic_log, sm.add_constant(X)).fit()\n",
    "B0, B1 = model.params\n",
    "residuals = model.resid\n",
    "\n",
    "plt.figure(figsize=(14,8))\n",
    "plt.scatter(model.predict(), residuals);\n",
    "plt.axhline(0, color='red')\n",
    "plt.xlabel('Predicted Values');\n",
    "plt.ylabel('Residuals');\n",
    "plt.grid()"
   ]
  },
  {
   "cell_type": "code",
   "execution_count": 16,
   "metadata": {},
   "outputs": [
    {
     "name": "stdout",
     "output_type": "stream",
     "text": [
      "0.122091903236\n",
      "A relação não é heterocedastica.\n"
     ]
    }
   ],
   "source": [
    "breusch_pagan_p = smd.het_breuschpagan(residuals, model.model.exog)[1]\n",
    "print(breusch_pagan_p)\n",
    "if breusch_pagan_p > 0.05:\n",
    "    print(\"A relação não é heterocedastica.\")\n",
    "if breusch_pagan_p < 0.05:\n",
    "    print(\"A relaçao é heterocedastica.\")"
   ]
  },
  {
   "cell_type": "markdown",
   "metadata": {},
   "source": [
    "Observe que esta nova regressão foi realizada no logarítmo dos dados originais. Isso significa que a escala foi alterada e as estimativas de regressão se situarão nessa escala transformada. Para voltar as estimativas para a escala original, você deve transformar de volta os valores usando o inverso do log: *\n",
    "\n",
    "$$ \\hat {Y} = e ^ {\\log (\\hat {Y})} $$"
   ]
  },
  {
   "cell_type": "markdown",
   "metadata": {},
   "source": [
    "#### Transformação Box-Cox\n",
    "\n",
    "Finalmente, examinamos a transformação de Box-Cox. A transformação Box-Cox é um método poderoso que funcionará em vários tipos de relações heterocedasticas. O processo funciona testando todos os valores de $ \\lambda $ dentro do intervalo $ [- 5, 5] $ para encontrar o valor que torna a saída da seguinte equação mais próxima para ser normalmente distribuída:\n",
    "$$\n",
    "Y ^ {(\\lambda)} = \\begin {cases}\n",
    "     \\frac {Y ^ {\\lambda} -1} {\\lambda} &: \\lambda \\neq 0 \\\\ \\log {Y} &: \\lambda = 0\n",
    "\\end {cases}\n",
    "$$\n",
    "\n",
    "O \"melhor\" $ \\lambda $ será usado para transformar a série ao longo da função acima. Em vez de ter que fazer tudo isso manualmente, podemos simplesmente usar a função `scipy` `boxcox`. Utilizaremos estafunção para ajustar $ Y $ e remover a heteroscedasticidade.\n",
    "\n",
    "* Nota: A transformação Box-Cox só pode ser usada se todos os dados forem positivos *"
   ]
  },
  {
   "cell_type": "code",
   "execution_count": 17,
   "metadata": {
    "collapsed": true
   },
   "outputs": [],
   "source": [
    "# Finding a power transformation adjusted Y_heteroscedastic\n",
    "Y_heteroscedastic_box_cox = stats.boxcox(Y_heteroscedastic)[0]"
   ]
  },
  {
   "cell_type": "markdown",
   "metadata": {},
   "source": [
    "Agora que armazenamos a versão transformada em log de `Y_heteroscedastic` em `Y_heteroscedastic_box_cox`, repitimos a regressão e o gráfico residual para ver se a heteroscedasticidade ainda está presente:"
   ]
  },
  {
   "cell_type": "code",
   "execution_count": 18,
   "metadata": {},
   "outputs": [
    {
     "data": {
      "image/png": "[encoded data removed]",
      "text/plain": [
       "<matplotlib.figure.Figure at 0x7f1263acb0b8>"
      ]
     },
     "metadata": {},
     "output_type": "display_data"
    }
   ],
   "source": [
    "model = sm.OLS(Y_heteroscedastic_box_cox, sm.add_constant(X)).fit()\n",
    "B0, B1 = model.params\n",
    "residuals = model.resid\n",
    "plt.figure(figsize=(14,8))\n",
    "plt.scatter(model.predict(), residuals);\n",
    "plt.axhline(0, color='red')\n",
    "plt.xlabel('Predicted Values');\n",
    "plt.ylabel('Residuals');\n",
    "plt.grid()"
   ]
  },
  {
   "cell_type": "code",
   "execution_count": 19,
   "metadata": {},
   "outputs": [
    {
     "name": "stdout",
     "output_type": "stream",
     "text": [
      "0.125428521917\n",
      "A relação não é heterocedastica.\n"
     ]
    }
   ],
   "source": [
    "breusch_pagan_p = smd.het_breuschpagan(residuals, model.model.exog)[1]\n",
    "print(breusch_pagan_p)\n",
    "if breusch_pagan_p > 0.05:\n",
    "    print(\"A relação não é heterocedastica.\")\n",
    "if breusch_pagan_p < 0.05:\n",
    "    print(\"A relaçao é heterocedastica.\")"
   ]
  },
  {
   "cell_type": "markdown",
   "metadata": {},
   "source": [
    "Agora que a relação não é heteroscedástica, uma regressão linear é apropriada. No entanto, como os dados foram transformados, as estimativas de regressão estarão em uma escala diferente dos dados originais. Por isso, é importante lembrar de retornar os resultados a seu espaço original usando o inverso da função Box-Cox: *\n",
    "\n",
    "$$ \\hat {Y} = (Y ^ {(\\lambda)} \\lambda + 1) ^ {1 / \\lambda} $$"
   ]
  },
  {
   "cell_type": "markdown",
   "metadata": {},
   "source": [
    "### GARCH Modeling\n",
    "\n",
    "Outra abordagem para lidar com a heteroscadasticidade é através de um modelo GARCH (Modelo autorregressivo generalizado condicional a heterocedasticidade)."
   ]
  },
  {
   "cell_type": "markdown",
   "metadata": {},
   "source": [
    "## Residuais e Autocorrelação\n",
    "\n",
    "Outro pressuposto por trás de regressões lineares é que os resíduos não são auto-correlacionados. Uma série é auto-correlacionada quando esta está correlacionada com uma versão atrasada de si mesma. Um exemplo de uma série potencialmente auto-correlacionada é a maxima das temperaturas diárias. A temperatura de hoje nos dá informações sobre a temperatura de amanhã com confiança razoável (as amostras de temperaturas tendem a serem proximas umas das outras, sem descontinuidades abruptas). Uma série de rolagem de dados justos, no entanto, não seria autocorrelacionada, pois uma amostra não lhe dá informações sobre o próxima. Cada amostra é independente da anterior.\n",
    "\n",
    "Nós representamos uma dependência de tempo em valores anteriores, da forma:\n",
    "\n",
    "$$ Y_i = Y_{i-1} + \\epsilon $$\n",
    "\n",
    "Se os resíduos de um modelo forem autocorrelacionados, você poderá fazer previsões sobre os resíduos adjacentes. No caso de $ Y $, sabemos que os dados serão autocorrelados porque podemos fazer previsões baseadas em resíduos adjacentes próximos uns dos outros."
   ]
  },
  {
   "cell_type": "code",
   "execution_count": 24,
   "metadata": {},
   "outputs": [
    {
     "data": {
      "image/png": "[encoded data removed]",
      "text/plain": [
       "<matplotlib.figure.Figure at 0x7f1262c74080>"
      ]
     },
     "metadata": {},
     "output_type": "display_data"
    }
   ],
   "source": [
    "n = 50\n",
    "X = np.linspace(0, n, n)\n",
    "Y_autocorrelated = np.zeros(n)\n",
    "Y_autocorrelated[0] = 50\n",
    "for t in range(1, n):\n",
    "    Y_autocorrelated[t] = Y_autocorrelated[t-1] + np.random.normal(0, 1) \n",
    "\n",
    "# Regressing X and Y_autocorrelated\n",
    "model = sm.OLS(Y_autocorrelated, sm.add_constant(X)).fit()\n",
    "B0, B1 = model.params\n",
    "residuals = model.resid\n",
    "\n",
    "plt.figure(figsize=(14,8))\n",
    "plt.scatter(model.predict(), residuals);\n",
    "plt.axhline(0, color='red')\n",
    "plt.xlabel('Predicted Values');\n",
    "plt.ylabel('Residuals');\n",
    "plt.grid()"
   ]
  },
  {
   "cell_type": "markdown",
   "metadata": {},
   "source": [
    "### Métodos estatísticos para detecção de autocorrelação\n",
    "\n",
    "Tal como acontece com todas as propriedades estatísticas, exigimos um teste estatístico para finalmente decidir se há autocorrelação nos nossos resíduos ou não. Para este fim, usamos um teste Ljung-Box.\n",
    "\n",
    "Um teste de Ljung-Box é usado para detectar autocorrelação em uma série temporal. Este teste examina a autocorrelação em todos os intervalos de atraso abaixo de um máximo especificado e retorna sequencias contendo as saídas para cada intervalo de atraso testado.\n",
    "\n",
    "Vamos usar a função `acorr_ljungbox` do modulo `statsmodels` para testar a autocorrelação nos resíduos do nosso modelo. Usamos um intervalo de atraso máximo de $ 10 $ e veremos se algum dos atrasos possui autocorrelação significativa:"
   ]
  },
  {
   "cell_type": "code",
   "execution_count": 27,
   "metadata": {},
   "outputs": [
    {
     "name": "stdout",
     "output_type": "stream",
     "text": [
      "Multiplicadores de Lagrange: [ 36.46264625  62.65674679  80.10103225  88.03929779  91.42824812\n",
      "  92.00006904  92.00055144  92.41321766  93.93145714  96.01948077]\n",
      "\n",
      "Valores P: [  1.55620161e-09   2.47890742e-14   2.91987822e-17   3.43487940e-18\n",
      "   3.36680839e-18   1.16359476e-17   4.80153331e-17   1.50374579e-16\n",
      "   2.63936892e-16   3.40147008e-16] \n",
      "\n",
      "Os residuais são autocorrelacionados.\n"
     ]
    }
   ],
   "source": [
    "ljung_box = smd.acorr_ljungbox(residuals, lags = 10)\n",
    "print(\"Multiplicadores de Lagrange:\", ljung_box[0])\n",
    "print(\"\\nValores P:\", ljung_box[1], \"\\n\")\n",
    "\n",
    "if any(ljung_box[1] < 0.05):\n",
    "    print(\"Os residuais são autocorrelacionados.\")\n",
    "else:\n",
    "    print(\"Os residuais não são autocorrelacionados.\")"
   ]
  },
  {
   "cell_type": "markdown",
   "metadata": {},
   "source": [
    "Como o teste de Ljung-Box produziu um valor p abaixo de $0,05$ por pelo menos um intervalo de atraso, podemos concluir que os resíduos de nosso modelo são auto-correlacionados."
   ]
  },
  {
   "cell_type": "markdown",
   "metadata": {},
   "source": [
    "## Ajustando para Autocorrelação\n",
    "\n",
    "Podemos ajustar a autocorrelação em muitas das mesmas maneiras que ajustamos para a heterocedasticidade. Vamos testar se um modelo ajustado nas diferenças de primeiro grau de $ Y $ tem resíduos autocorrelacionados:"
   ]
  },
  {
   "cell_type": "code",
   "execution_count": 28,
   "metadata": {
    "collapsed": true
   },
   "outputs": [],
   "source": [
    "# Finding first-order differences in Y_autocorrelated\n",
    "Y_autocorrelated_diff = np.diff(Y_autocorrelated)"
   ]
  },
  {
   "cell_type": "code",
   "execution_count": 30,
   "metadata": {},
   "outputs": [
    {
     "name": "stdout",
     "output_type": "stream",
     "text": [
      "Valores P: [ 0.17759533  0.40148494  0.60768828  0.47426028  0.61366248  0.72944205\n",
      "  0.7955826   0.86153806  0.90290347  0.85352945] \n",
      "\n",
      "Os residuais não são autocorrelacionados.\n"
     ]
    },
    {
     "data": {
      "image/png": "[encoded data removed]",
      "text/plain": [
       "<matplotlib.figure.Figure at 0x7f1263756f28>"
      ]
     },
     "metadata": {},
     "output_type": "display_data"
    }
   ],
   "source": [
    "model = sm.OLS(Y_autocorrelated_diff, sm.add_constant(X[1:])).fit()\n",
    "B0, B1 = model.params\n",
    "residuals = model.resid\n",
    "\n",
    "plt.figure(figsize=(14,8))\n",
    "plt.scatter(model.predict(), residuals);\n",
    "plt.axhline(0, color='red')\n",
    "plt.xlabel('Predicted Values');\n",
    "plt.ylabel('Residuals');\n",
    "plt.grid()\n",
    "\n",
    "# Running and interpreting a Ljung-Box test\n",
    "ljung_box = smd.acorr_ljungbox(residuals, lags = 10)\n",
    "print(\"Valores P:\", ljung_box[1], \"\\n\")\n",
    "\n",
    "if any(ljung_box[1] < 0.05):\n",
    "    print(\"Os residuais são autocorrelacionados.\")\n",
    "else:\n",
    "    print(\"Os residuais não são autocorrelacionados.\")"
   ]
  },
  {
   "cell_type": "markdown",
   "metadata": {},
   "source": [
    "Esta nova regressão foi realizada sobre as diferenças entre os dados e, portanto, o retorno de regressão deve ser transformado novamente para atingir uma predição na escala original. Uma vez que regredimos as diferenças, podemos adicionar nossa diferença prevista nos dados originais para obter nossa estimativa:\n",
    "\n",
    "$$ \\hat {Y_i} = Y_{i-1} + \\hat {Y_{dif}} $$"
   ]
  },
  {
   "cell_type": "markdown",
   "metadata": {},
   "source": [
    "Também podemos realizar uma transformação para escala logarítmica, se assim o desejarmos. Esse processo é idêntico ao que realizamos nos dados heterocedásticos acima, logo, não vamos nos repetir."
   ]
  },
  {
   "cell_type": "code",
   "execution_count": null,
   "metadata": {
    "collapsed": true
   },
   "outputs": [],
   "source": []
  }
 ],
 "metadata": {
  "kernelspec": {
   "display_name": "Python 3",
   "language": "python",
   "name": "python3"
  },
  "language_info": {
   "codemirror_mode": {
    "name": "ipython",
    "version": 3
   },
   "file_extension": ".py",
   "mimetype": "text/x-python",
   "name": "python",
   "nbconvert_exporter": "python",
   "pygments_lexer": "ipython3",
   "version": "3.6.0"
  }
 },
 "nbformat": 4,
 "nbformat_minor": 2
}
