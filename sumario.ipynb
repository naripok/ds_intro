{
 "cells": [
  {
   "cell_type": "markdown",
   "metadata": {},
   "source": [
    "# Manual de Introdução a Ciência de Dados em Python\n",
    "\n",
    "Este manual visa dar base introdutoria a pesquisa no campo da ciência de dados em python.\n",
    "\n",
    "Autor: Fernando H Canteruccio  \n",
    "Data: 01/06/2017\n",
    "\n",
    "Este curso será estruturado da seguinte forma:\n",
    "\n",
    "Programação em Python:  \n",
    "- [Introdução ao Python para análise de dados](./intro_py.html) \n",
    "  \n",
    "Estatística em Python: \n",
    "- [Variáveis Aleatórias](./random_variables.html)\n",
    "- [Estimativas potuais: Média e Variância](./mean_var.html)\n",
    "- [Momento Estatístico](./stat_moments.html)\n",
    "- [Intervalos de Confiança](./confidence_intervals.html)\n",
    "- [Teste de Hipótese](./hypothesis.html)\n",
    "- [P-hacking e Viés de Comparações Múltiplas](./p_hacking.html)\n",
    "  \n",
    "Aprendizado de máquina em Python:  \n",
    "- [Introdução a Aprendizado de Máquina](./intro_ml.html)\n",
    "- [Modelos Hierárquicos em Python](./nn_models.html)\n",
    "- [Análise de Resíduos](./ana_res.html)\n",
    "- [Violação das Suposições do Modelos](./model_violation.html)\n",
    "- [Instabilidade em Modelos de Regressão](./reg_insta.html)\n"
   ]
  },
  {
   "cell_type": "markdown",
   "metadata": {
    "collapsed": true
   },
   "source": [
    "### Referências e Bibliografia\n",
    "\n",
    "* https://www.kaggle.com/  \n",
    "* https://www.quantopian.com/lectures  \n",
    "* Learn Python the Hard Way: A Very Simple Introduction to the Terrifyingly Beautiful World of Computers and Code 3rd, Addison-Wesley  \n",
    "* A Byte of Python - Swaroop C H  \n",
    "\n",
    "### Cursos relacionados\n",
    "* https://ocw.mit.edu/courses/electrical-engineering-and-computer-science/6-0001-introduction-to-computer-science-and-programming-in-python-fall-2016/\n",
    "* https://ocw.mit.edu/courses/electrical-engineering-and-computer-science/6-0002-introduction-to-computational-thinking-and-data-science-fall-2016/\n",
    "* https://ocw.mit.edu/courses/electrical-engineering-and-computer-science/6-034-artificial-intelligence-fall-2010/\n",
    "* https://www.youtube.com/watch?v=2pWv7GOvuf0&list=PL7-jPKtc4r78-wCZcQn5IqyuWhBZ8fOxT\n",
    "* https://www.youtube.com/watch?v=pid0lUH467o&list=PLE6Wd9FR--Ecf_5nCbnSQMHqORpiChfJf\n",
    "* https://www.youtube.com/watch?v=UzxYlbK2c7E&list=PLJ_CMbwA6bT-n1W0mgOlYwccZ-j6gBXqE\n"
   ]
  }
 ],
 "metadata": {
  "kernelspec": {
   "display_name": "Python 3",
   "language": "python",
   "name": "python3"
  },
  "language_info": {
   "codemirror_mode": {
    "name": "ipython",
    "version": 3
   },
   "file_extension": ".py",
   "mimetype": "text/x-python",
   "name": "python",
   "nbconvert_exporter": "python",
   "pygments_lexer": "ipython3",
   "version": "3.6.4"
  }
 },
 "nbformat": 4,
 "nbformat_minor": 2
}
