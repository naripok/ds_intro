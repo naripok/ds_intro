{
 "cells": [
  {
   "cell_type": "markdown",
   "metadata": {},
   "source": [
    "# Manual de Introdução a Ciência de Dados em Python\n",
    "\n",
    "Este manual visa dar base introdutoria a pesquisa no campo da ciência de dados em python.\n",
    "\n",
    "Autor: Fernando H Canteruccio  \n",
    "Data: 01/06/2017\n",
    "\n",
    "Este curso será estruturado da seguinte forma:\n",
    "\n",
    "- [Introdução ao Python para análise de dados](./intro_py.html)\n",
    "- [Estimativas potuais: Média e Variância](./mean_var.html)\n",
    "- [Introdução a Aprendizado de Máquina](./intro_ml.html)\n",
    "- [Análise de Resíduos](./ana_res.html)\n",
    "- [Variáveis Aleatórias]()\n",
    "- [Momento Estatístico]()\n",
    "- [Intervalos de Confiança]()\n",
    "- [Teste de Hipótese, p-hacking e Viés de Comparações Múltiplas]()\n",
    "- [Estimativa de Probabilidade Máxima]()\n",
    "- [Resultados da Má Especificação do Modelo]()\n",
    "- [Violação das Suposições do Modelos]()\n",
    "- [Instabilidade em Modelos Regressores]()\n"
   ]
  },
  {
   "cell_type": "markdown",
   "metadata": {
    "collapsed": true
   },
   "source": [
    "### Referências e Bibliografia\n",
    "\n",
    "* https://www.kaggle.com/  \n",
    "* https://www.quantopian.com/lectures  \n",
    "* Learn Python the Hard Way: A Very Simple Introduction to the Terrifyingly Beautiful World of Computers and Code 3rd, Addison-Wesley  \n",
    "* A Byte of Python - Swaroop C H  \n"
   ]
  }
 ],
 "metadata": {
  "kernelspec": {
   "display_name": "Python 3",
   "language": "python",
   "name": "python3"
  },
  "language_info": {
   "codemirror_mode": {
    "name": "ipython",
    "version": 3
   },
   "file_extension": ".py",
   "mimetype": "text/x-python",
   "name": "python",
   "nbconvert_exporter": "python",
   "pygments_lexer": "ipython3",
   "version": "3.6.0"
  }
 },
 "nbformat": 4,
 "nbformat_minor": 2
}
