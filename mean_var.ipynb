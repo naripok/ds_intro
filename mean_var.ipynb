{
 "cells": [
  {
   "cell_type": "markdown",
   "metadata": {},
   "source": [
    "# Medias, Moda e Mediana, Medidas de Tendência\n",
    "\n",
    "Neste capitulo, discutiremos maneiras de resumir um conjunto de dados usando um único número. O objetivo é capturar informações sobre a distribuição de dados.\n",
    "\n",
    "## Média aritmética\n",
    "\n",
    "A média aritmética é usada com freqüência para resumir dados numéricos, e geralmente é o que se supõe significar pela palavra \"média\". É definida como a soma das observações divididas pelo número de observações:\n",
    "$$ \\mu = \\frac {\\sum_ {i = 1} ^ N X_i} {N} $$\n",
    "\n",
    "onde $ X_1, X_2, \\ldots, X_N $ são nossas observações."
   ]
  },
  {
   "cell_type": "code",
   "execution_count": 1,
   "metadata": {},
   "outputs": [
    {
     "name": "stdout",
     "output_type": "stream",
     "text": [
      "Média de x1: 29 / 8 = 3.625\n",
      "Média de x2: 129 / 9 = 14.3333333333\n"
     ]
    }
   ],
   "source": [
    "# Two useful statistical libraries\n",
    "import scipy.stats as stats\n",
    "import numpy as np\n",
    "\n",
    "# We'll use these two data sets as examples\n",
    "x1 = [1, 2, 2, 3, 4, 5, 5, 7]\n",
    "x2 = x1 + [100]\n",
    "\n",
    "print('Média de x1:', sum(x1), '/', len(x1), '=', np.mean(x1))\n",
    "print('Média de x2:', sum(x2), '/', len(x2), '=', np.mean(x2))"
   ]
  },
  {
   "cell_type": "markdown",
   "metadata": {},
   "source": [
    "Também podemos definir uma média aritmética *ponderada*, que é útil para especificar explicitamente o número de vezes que cada observação deve ser contada. Por exemplo, ao computar o valor médio de um portfólio, é mais conveniente dizer que 70% das suas ações são do tipo X ao invés de fazer uma lista de cada ação que você detém.\n",
    "\n",
    "A média aritmética ponderada é definida como\n",
    "$$ \\sum_ {i = 1} ^ n w_i X_i $$\n",
    "\n",
    "onde $ \\sum_ {i = 1} ^ n w_i = 1 $. Na média aritmética usual, temos $ w_i = 1 /n $ para todo $ i $."
   ]
  },
  {
   "cell_type": "markdown",
   "metadata": {},
   "source": [
    "## Mediana\n",
    "\n",
    "A mediana de um conjunto de dados é o número que aparece no meio da lista quando ele é ordenado em ordem crescente ou decrescente. Quando temos um número ímpar $ n $ de pontos de dados, este é simplesmente o valor na posição $ (n + 1) / 2 $. Quando temos um número par de pontos de dados, a lista se divide pela metade e não há nenhum item no meio; então definimos a mediana como a média dos valores nas posições $ n / 2 $ e $ (n + 2) / 2 $.\n",
    "\n",
    "A mediana é menos afetada por valores extremos nos dados do que a média aritmética. Ele nos informa o valor que divide o conjunto de dados ao meio, mas não o quao menores ou maiores são os outros valores."
   ]
  },
  {
   "cell_type": "code",
   "execution_count": 2,
   "metadata": {},
   "outputs": [
    {
     "name": "stdout",
     "output_type": "stream",
     "text": [
      "Mediana de x1: 3.5\n",
      "Mediana de x2: 4.0\n"
     ]
    }
   ],
   "source": [
    "print('Mediana de x1:', np.median(x1))\n",
    "print('Mediana de x2:', np.median(x2))"
   ]
  },
  {
   "cell_type": "markdown",
   "metadata": {},
   "source": [
    "## Moda\n",
    "\n",
    "A moda é o valor mais freqüente em um conjunto de dados. Pode ser aplicado a dados não-numéricos, ao contrário da média e da mediana. Uma situação em que é útil é para dados cujos valores possíveis são independentes. Por exemplo, nos resultados de um dado (do tipo que se joga em um cassino) ponderado, tirar 6 muitas vezes não significa que é provável que o próximo resultado seja 5; então, saber que o conjunto de dados tem uma moda 6 é mais útil do que saber que tem uma média de 4,5."
   ]
  },
  {
   "cell_type": "code",
   "execution_count": 3,
   "metadata": {},
   "outputs": [
    {
     "name": "stdout",
     "output_type": "stream",
     "text": [
      "Moda de x1: 2\n",
      "Todas as modas de x1: [2, 5]\n"
     ]
    }
   ],
   "source": [
    "# Scipy has a built-in mode function, but it will return exactly one value\n",
    "# even if two values occur the same number of times, or if no value appears more than once\n",
    "print('Moda de x1:', stats.mode(x1)[0][0])\n",
    "\n",
    "# So we will write our own\n",
    "def mode(l):\n",
    "    # Count the number of times each element appears in the list\n",
    "    counts = {}\n",
    "    for e in l:\n",
    "        if e in counts:\n",
    "            counts[e] += 1\n",
    "        else:\n",
    "            counts[e] = 1\n",
    "            \n",
    "    # Return the elements that appear the most times\n",
    "    maxcount = 0\n",
    "    modes = {}\n",
    "    for (key, value) in counts.items():\n",
    "        if value > maxcount:\n",
    "            maxcount = value\n",
    "            modes = {key}\n",
    "        elif value == maxcount:\n",
    "            modes.add(key)\n",
    "            \n",
    "    if maxcount > 1 or len(l) == 1:\n",
    "        return list(modes)\n",
    "    return('Moda não definida')\n",
    "    \n",
    "print('Todas as modas de x1:', mode(x1))"
   ]
  },
  {
   "cell_type": "markdown",
   "metadata": {},
   "source": [
    "Para os dados que podem assumir muitos valores diferentes, como em variáveis continuas, pode não haver valores que aparecem mais de uma vez. Neste caso, podemos classificar intervalos de valores, como fazemos quando construímos um histograma e, em seguida, encontrar a moda do conjunto de dados em que cada valor é substituído pelo valor da sua classe. Ou seja, descobrimos quais das classes ocorre na maioria das vezes."
   ]
  },
  {
   "cell_type": "code",
   "execution_count": 4,
   "metadata": {},
   "outputs": [
    {
     "name": "stdout",
     "output_type": "stream",
     "text": [
      "Moda da variável: Moda não definida\n",
      "Moda das classes: [(0.54645019048802423, 0.59599363164091468), (0.84371083740536679, 0.89325427855825723)]\n"
     ]
    }
   ],
   "source": [
    "variable = np.random.random(100)\n",
    "print('Moda da variável:', mode(variable))\n",
    "\n",
    "# Since all of the samples are distinct, we use a frequency distribution to get an alternative mode.\n",
    "# np.histogram returns the frequency distribution over the bins as well as the endpoints of the bins\n",
    "hist, bins = np.histogram(variable, 20) # Break data up into 20 bins\n",
    "maxfreq = max(hist)\n",
    "# Find all of the bins that are hit with frequency maxfreq, then print the intervals corresponding to them\n",
    "print('Moda das classes:', [(bins[i], bins[i+1]) for i, j in enumerate(hist) if j == maxfreq])"
   ]
  },
  {
   "cell_type": "markdown",
   "metadata": {},
   "source": [
    "## Média Geométrica\n",
    "\n",
    "Enquanto a média aritmética utiliza a adição, a média geométrica usa a multiplicação:\n",
    "$$ G = \\sqrt [n] {X_1X_1 \\ldots X_n} $$\n",
    "\n",
    "para observações $ X_i \\geq 0 $. Também podemos reescrevê-la como uma média aritmética usando logaritmos:\n",
    "$$ \\ln G = \\frac {\\sum_ {i = 1} ^ n \\ln X_i} {n} $$\n",
    "\n",
    "A média geométrica é sempre menor ou igual à média aritmética (quando se trabalha com observações não-negativas), com igualdade somente quando todas as observações são iguais.\n"
   ]
  },
  {
   "cell_type": "code",
   "execution_count": 5,
   "metadata": {},
   "outputs": [
    {
     "name": "stdout",
     "output_type": "stream",
     "text": [
      "Média geométrica de x1: 3.09410402498\n",
      "Média geométrica de x2: 4.55253458762\n"
     ]
    }
   ],
   "source": [
    "# Use scipy's gmean function to compute the geometric mean\n",
    "print('Média geométrica de x1:', stats.gmean(x1))\n",
    "print('Média geométrica de x2:', stats.gmean(x2))"
   ]
  },
  {
   "cell_type": "markdown",
   "metadata": {},
   "source": [
    "## Média Harmônica\n",
    "\n",
    "A média harmônica é menos comum que os outros tipos de médias. É definido como\n",
    "$$ H = \\frac {n} {\\sum_ {i = 1} ^ n \\frac {1} {X_i}} $$\n",
    "\n",
    "Tal como acontece com a média geométrica, podemos reescrever a média harmônica para parecer uma média aritmética. O inverso da média harmônica é a média aritmética dos inverso das observações:\n",
    "$$ \\frac {1} {H} = \\frac {\\sum_ {i = 1} ^ n \\frac {1} {X_i}} {n} $$\n",
    "\n",
    "\n",
    "A média harmônica para números não negativos $ X_i $ é sempre no máximo a média geométrica (que é no máximo a média aritmética), e eles são iguais somente quando todas as observações são iguais."
   ]
  },
  {
   "cell_type": "code",
   "execution_count": 6,
   "metadata": {},
   "outputs": [
    {
     "name": "stdout",
     "output_type": "stream",
     "text": [
      "Média harmônica de x1: 2.55902513328\n",
      "Média harmônica de x2: 2.86972365624\n"
     ]
    }
   ],
   "source": [
    "print('Média harmônica de x1:', stats.hmean(x1))\n",
    "print('Média harmônica de x2:', stats.hmean(x2))"
   ]
  },
  {
   "cell_type": "markdown",
   "metadata": {},
   "source": [
    "A média harmônica pode ser usada quando os dados podem ser formulados naturalmente em termos de razões. Por exemplo, em estratégias financeiras como a estratégia de média de custo, um valor fixo é gasto em ações de moedas em intervalos regulares. Quanto maior o preço da moeda, então, menor o numero de ações que um investidor seguindo esta estratégia compra. O valor médio (média aritmética) que este investidor paga pelas ações é a média harmônica dos preços."
   ]
  },
  {
   "cell_type": "markdown",
   "metadata": {},
   "source": [
    "## As estimativas pontuais podem ser enganosas\n",
    "\n",
    "As médias, por natureza, escondem muita informação, pois colapsam distribuições inteiras em um número. Como resultado, muitas vezes \"estimativas pontuais\" ou métricas que usam um número, podem disfarçar caracteristicas importantes em seus dados. Você deve ter cuidado para garantir que não esteja perdendo informações importantes ao resumir seus dados, e raramente deve usar uma média sem se referir a uma medida de dispersão.\n",
    "\n",
    "## A distribuição subjacente pode estar errada\n",
    "\n",
    "Mesmo quando você está usando as métricas certas para média e dispersão, elas podem não fazer sentido se sua distribuição subjacente não for o que você acha que é. Por exemplo, usar o desvio padrão para medir a freqüência de um evento geralmente assumirá a normalidade. Tente não assumir distribuições a menos que seja necessário, caso em que você deve verificar rigorosamente que os dados se encaixam na distribuição que você está assumindo."
   ]
  },
  {
   "cell_type": "markdown",
   "metadata": {},
   "source": [
    "# Desvio e Variância, Medidas de Dispersão\n",
    "\n",
    "Dispersão mede o \"espalhamento\" de um conjunto de dados. Dados com baixa dispersão estão fortemente agrupados em torno da média, enquanto a alta dispersão a indica muitos valores muito afastados da média.\n",
    "\n",
    "Para exemplificar, geramos uma série de numeros aléatórios com `numpy`."
   ]
  },
  {
   "cell_type": "code",
   "execution_count": 7,
   "metadata": {},
   "outputs": [
    {
     "name": "stdout",
     "output_type": "stream",
     "text": [
      "X: [ 1  2 14 20 21 23 29 37 51 52 60 71 74 74 82 86 87 87 92 99]\n",
      "Média de X: 53.1\n"
     ]
    }
   ],
   "source": [
    "np.random.seed(42) # fixa a random seed\n",
    "# Generate 20 random integers < 100\n",
    "X = np.random.randint(100, size=20)\n",
    "\n",
    "# Sort them\n",
    "X = np.sort(X)\n",
    "print('X: %s' %(X))\n",
    "\n",
    "mu = np.mean(X)\n",
    "print('Média de X:', mu)"
   ]
  },
  {
   "cell_type": "markdown",
   "metadata": {},
   "source": [
    "# Amplitude\n",
    "\n",
    "Amplitude é simplesmente a diferença entre os valores máximo e mínimo em um conjunto de dados. Não surpreendentemente, é muito sensível a *outliers*. Usaremos a função `numpy` pico a pico (`ptp`) para mensurar esta estimativa."
   ]
  },
  {
   "cell_type": "code",
   "execution_count": 8,
   "metadata": {},
   "outputs": [
    {
     "name": "stdout",
     "output_type": "stream",
     "text": [
      "Amplitude ptp de X: 98\n"
     ]
    }
   ],
   "source": [
    "print('Amplitude ptp de X: %s' %(np.ptp(X)))"
   ]
  },
  {
   "cell_type": "markdown",
   "metadata": {},
   "source": [
    "# Desvio Absoluto Médio (MAD)\n",
    "\n",
    "O desvio absoluto médio é a média das distâncias das observações da média aritmética. Usamos o valor absoluto do desvio, de modo que 5 acima da média e 5 abaixo da média, ambos contribuem 5, pois, de outra forma, os desvios sempre somam para 0.\n",
    "\n",
    "$$ MAD = \\frac {\\sum_ {i = 1} ^ n | X_i - \\mu |} {n} $$\n",
    "\n",
    "\n",
    "onde $ n $ é o número de observações e $ \\mu $ é o sua média."
   ]
  },
  {
   "cell_type": "code",
   "execution_count": 9,
   "metadata": {},
   "outputs": [
    {
     "name": "stdout",
     "output_type": "stream",
     "text": [
      "Desvio absoluto médio de X: 28.1\n"
     ]
    }
   ],
   "source": [
    "abs_dispersion = [np.abs(mu - x) for x in X]\n",
    "MAD = np.sum(abs_dispersion)/len(abs_dispersion)\n",
    "print('Desvio absoluto médio de X:', MAD)"
   ]
  },
  {
   "cell_type": "markdown",
   "metadata": {},
   "source": [
    "# Variação e Desvio padrão\n",
    "\n",
    "A variância $ \\sigma ^ 2 $ é definida como a média dos desvios quadrados em torno da média:\n",
    "$$ \\sigma ^ 2 = \\frac {\\sum_ {i = 1} ^ n (X_i - \\mu) ^ 2} {n} $$\n",
    "\n",
    "Isso às vezes é mais conveniente do que o desvio absoluto médio porque o valor absoluto não é diferenciável, enquanto seu quadrado é suave e alguns algoritmos de otimização dependem da diferenciabilidade.\n",
    "\n",
    "O desvio padrão é definido como a raiz quadrada da variância, $ \\sigma $, e é de mais fácil interpretação pois está nas mesmas unidades das observações."
   ]
  },
  {
   "cell_type": "code",
   "execution_count": 10,
   "metadata": {},
   "outputs": [
    {
     "name": "stdout",
     "output_type": "stream",
     "text": [
      "Variancia de X: 990.49\n",
      "Desvio padrão de X: 31.472051093\n"
     ]
    }
   ],
   "source": [
    "print('Variancia de X:', np.var(X))\n",
    "print('Desvio padrão de X:', np.std(X))"
   ]
  },
  {
   "cell_type": "markdown",
   "metadata": {},
   "source": [
    "Uma maneira de interpretar o desvio padrão é se referindo à desigualdade de Chebyshev. Isso nos diz que a proporção de amostras dentro dos desvios-padrão de $ k $ (isto é, dentro de uma distância de $ k \\cdot $ desvio padrão) da média é pelo menos $ 1 - 1 /k ^ 2 $ para todos $ k> 1 $.\n",
    "\n",
    "Vamos verificar se isso é verdade para o nosso conjunto de dados."
   ]
  },
  {
   "cell_type": "code",
   "execution_count": 11,
   "metadata": {},
   "outputs": [
    {
     "name": "stdout",
     "output_type": "stream",
     "text": [
      "Observações dentro de 1.25 stds da média: [14, 20, 21, 23, 29, 37, 51, 52, 60, 71, 74, 74, 82, 86, 87, 87, 92]\n",
      "Confirmando que 0.85 > 0.36\n"
     ]
    }
   ],
   "source": [
    "k = 1.25\n",
    "dist = k*np.std(X)\n",
    "l = [x for x in X if abs(x - mu) <= dist]\n",
    "print('Observações dentro de', k, 'stds da média:', l)\n",
    "print('Confirmando que', float(len(l))/len(X), '>', 1 - 1/k**2)"
   ]
  },
  {
   "cell_type": "markdown",
   "metadata": {},
   "source": [
    "O limite dado pela desigualdade de Chebyshev parece bastante \"largo\" neste caso. Este limite raramente é rigoroso, mas é útil porque é válido para todos os conjuntos de dados e distribuições."
   ]
  },
  {
   "cell_type": "markdown",
   "metadata": {},
   "source": [
    "# Semi Variância e Semi Desvio padrão\n",
    "\n",
    "Embora variância e desvio padrão nos digam o quanto uma quantidade é volátil, eles não diferenciam os desvios para cima e os desvios para baixo. Muitas vezes, como no caso de retornos sobre um ativo, estamos mais preocupados com os desvios para baixo. Isto é abordado pela semi variância e pelo semi desvio padrão, que contam apenas as observações que se encontram abaixo da média. A semi variância é definida como\n",
    "$$ \\frac {\\sum_ {X_i <\\mu} (X_i - \\mu) ^ 2} {n_<} $$\n",
    "onde $ n_<$ é o número de observações que são menores do que a média. O semi desvio padrão é a raiz quadrada da semi variância."
   ]
  },
  {
   "cell_type": "markdown",
   "metadata": {},
   "source": [
    "Uma noção relacionada é semi variância alvo (e semi desvio padrão alvo), onde medimos a distância entre os valores que se situam abaixo desse alvo:\n",
    "\n",
    "$$ \\frac {\\sum_ {X_i <B} (X_i - B) ^ 2} {n_{<B}} $$"
   ]
  },
  {
   "cell_type": "code",
   "execution_count": 12,
   "metadata": {},
   "outputs": [
    {
     "name": "stdout",
     "output_type": "stream",
     "text": [
      "Semi variancia alvo de X: 212.666666667\n",
      "Semi desvio padrão alvo de X: 14.5830952362\n"
     ]
    }
   ],
   "source": [
    "B = 19\n",
    "lows_B = [e for e in X if e <= B]\n",
    "semivar_B = sum(map(lambda x: (x - B)**2,lows_B))/len(lows_B)\n",
    "\n",
    "print('Semi variancia alvo de X:', semivar_B)\n",
    "print ('Semi desvio padrão alvo de X:', np.sqrt(semivar_B))"
   ]
  },
  {
   "cell_type": "markdown",
   "metadata": {},
   "source": [
    "## Estas são apenas estimativas\n",
    "\n",
    "Todos esses cálculos fornecerão estatísticas de amostra, como o desvio padrão de uma amostra de dados. Se isso reflete ou não o desvio padrão real da população, nem sempre é óbvio, e é necessário análise minuciosa para determinar sua validade. "
   ]
  }
 ],
 "metadata": {
  "kernelspec": {
   "display_name": "Python 3",
   "language": "python",
   "name": "python3"
  },
  "language_info": {
   "codemirror_mode": {
    "name": "ipython",
    "version": 3
   },
   "file_extension": ".py",
   "mimetype": "text/x-python",
   "name": "python",
   "nbconvert_exporter": "python",
   "pygments_lexer": "ipython3",
   "version": "3.6.0"
  }
 },
 "nbformat": 4,
 "nbformat_minor": 2
}
